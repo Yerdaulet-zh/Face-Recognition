{
 "cells": [
  {
   "cell_type": "code",
   "execution_count": 1,
   "id": "f77e8b06",
   "metadata": {},
   "outputs": [
    {
     "name": "stderr",
     "output_type": "stream",
     "text": [
      "C:\\ProgramData\\anaconda3\\Lib\\site-packages\\paramiko\\transport.py:219: CryptographyDeprecationWarning: Blowfish has been deprecated\n",
      "  \"class\": algorithms.Blowfish,\n"
     ]
    }
   ],
   "source": [
    "import torch, torchvision, tqdm, os\n",
    "import matplotlib.pyplot as plt\n",
    "import albumentations as A\n",
    "import torch.nn as nn\n",
    "import seaborn as sns\n",
    "import pandas as pd\n",
    "import numpy as np\n",
    "\n",
    "from PIL import Image\n",
    "from albumentations.pytorch import ToTensorV2\n",
    "from torch.utils.data import DataLoader, Dataset\n",
    "from sklearn.model_selection import train_test_split\n",
    "\n",
    "device = \"cuda\" if torch.cuda.is_available() else \"cpu\""
   ]
  },
  {
   "cell_type": "code",
   "execution_count": 7,
   "id": "1bd1a7b9",
   "metadata": {},
   "outputs": [
    {
     "data": {
      "text/html": [
       "<div>\n",
       "<style scoped>\n",
       "    .dataframe tbody tr th:only-of-type {\n",
       "        vertical-align: middle;\n",
       "    }\n",
       "\n",
       "    .dataframe tbody tr th {\n",
       "        vertical-align: top;\n",
       "    }\n",
       "\n",
       "    .dataframe thead th {\n",
       "        text-align: right;\n",
       "    }\n",
       "</style>\n",
       "<table border=\"1\" class=\"dataframe\">\n",
       "  <thead>\n",
       "    <tr style=\"text-align: right;\">\n",
       "      <th></th>\n",
       "      <th>id</th>\n",
       "      <th>label</th>\n",
       "    </tr>\n",
       "  </thead>\n",
       "  <tbody>\n",
       "    <tr>\n",
       "      <th>0</th>\n",
       "      <td>Robert Downey Jr_87.jpg</td>\n",
       "      <td>Robert Downey Jr</td>\n",
       "    </tr>\n",
       "    <tr>\n",
       "      <th>1</th>\n",
       "      <td>Lisa Kudrow_64.jpg</td>\n",
       "      <td>Lisa Kudrow</td>\n",
       "    </tr>\n",
       "    <tr>\n",
       "      <th>2</th>\n",
       "      <td>Ellen Degeneres_34.jpg</td>\n",
       "      <td>Ellen Degeneres</td>\n",
       "    </tr>\n",
       "    <tr>\n",
       "      <th>3</th>\n",
       "      <td>Billie Eilish_3.jpg</td>\n",
       "      <td>Billie Eilish</td>\n",
       "    </tr>\n",
       "    <tr>\n",
       "      <th>4</th>\n",
       "      <td>Hrithik Roshan_35.jpg</td>\n",
       "      <td>Hrithik Roshan</td>\n",
       "    </tr>\n",
       "  </tbody>\n",
       "</table>\n",
       "</div>"
      ],
      "text/plain": [
       "                        id             label\n",
       "0  Robert Downey Jr_87.jpg  Robert Downey Jr\n",
       "1       Lisa Kudrow_64.jpg       Lisa Kudrow\n",
       "2   Ellen Degeneres_34.jpg   Ellen Degeneres\n",
       "3      Billie Eilish_3.jpg     Billie Eilish\n",
       "4    Hrithik Roshan_35.jpg    Hrithik Roshan"
      ]
     },
     "execution_count": 7,
     "metadata": {},
     "output_type": "execute_result"
    }
   ],
   "source": [
    "# https://www.kaggle.com/datasets/vasukipatel/face-recognition-dataset\n",
    "data = pd.read_csv(\"data/Dataset.csv\")\n",
    "data.head()"
   ]
  },
  {
   "cell_type": "code",
   "execution_count": 8,
   "id": "d18c818c",
   "metadata": {},
   "outputs": [
    {
     "data": {
      "text/plain": [
       "array(['Robert Downey Jr', 'Lisa Kudrow', 'Ellen Degeneres',\n",
       "       'Billie Eilish', 'Hrithik Roshan', 'Vijay Deverakonda',\n",
       "       'Tom Cruise', 'Alia Bhatt', 'Elizabeth Olsen', 'Charlize Theron',\n",
       "       'Natalie Portman', 'Priyanka Chopra', 'Zac Efron', 'Marmik',\n",
       "       'Camila Cabello', 'Claire Holt', 'Brad Pitt', 'Anushka Sharma',\n",
       "       'Roger Federer', 'Akshay Kumar', 'Alexandra Daddario',\n",
       "       'Hugh Jackman', 'Andy Samberg', 'Margot Robbie', 'Courtney Cox',\n",
       "       'Dwayne Johnson', 'Amitabh Bachchan', 'Henry Cavill',\n",
       "       'Virat Kohli', 'Jessica Alba', 'Kashyap'], dtype=object)"
      ]
     },
     "execution_count": 8,
     "metadata": {},
     "output_type": "execute_result"
    }
   ],
   "source": [
    "identities = data['label'].unique()\n",
    "identities"
   ]
  },
  {
   "cell_type": "code",
   "execution_count": 9,
   "id": "df22efe1",
   "metadata": {},
   "outputs": [
    {
     "data": {
      "text/plain": [
       "31"
      ]
     },
     "execution_count": 9,
     "metadata": {},
     "output_type": "execute_result"
    }
   ],
   "source": [
    "len(identities)"
   ]
  },
  {
   "cell_type": "code",
   "execution_count": 10,
   "id": "4b5e1003",
   "metadata": {
    "scrolled": true
   },
   "outputs": [],
   "source": [
    "# Encoder of the identities\n",
    "encoder = {val:key for key, val in enumerate(identities)}"
   ]
  },
  {
   "cell_type": "code",
   "execution_count": 6,
   "id": "ed6388e7",
   "metadata": {},
   "outputs": [
    {
     "data": {
      "text/plain": [
       "2562"
      ]
     },
     "execution_count": 6,
     "metadata": {},
     "output_type": "execute_result"
    }
   ],
   "source": [
    "img_path = \"data/Faces/Faces/\"\n",
    "len(os.listdir(img_path))"
   ]
  },
  {
   "cell_type": "code",
   "execution_count": 7,
   "id": "e3a5026c",
   "metadata": {},
   "outputs": [
    {
     "name": "stderr",
     "output_type": "stream",
     "text": [
      "100%|████████████████████████████████████████████████████████████████████████████| 2562/2562 [00:01<00:00, 1348.83it/s]\n"
     ]
    }
   ],
   "source": [
    "image_w, image_h, mean_r, mean_g, mean_b, std_r, std_g, std_b = [], [], [], [], [], [], [], []\n",
    "\n",
    "\n",
    "for image in tqdm.tqdm(data.id):\n",
    "    image  = Image.open(img_path + image).convert(\"RGB\")\n",
    "    image = np.array(image)\n",
    "    \n",
    "    # image heigth and widths\n",
    "    width, height, c = image.shape\n",
    "    image_w.append(width)\n",
    "    image_h.append(height)\n",
    "\n",
    "    # image means\n",
    "    r = image[:, :, 0]\n",
    "    g = image[:, :, 1]\n",
    "    b = image[:, :, 2]\n",
    "    \n",
    "    mean_r.append(r.mean())\n",
    "    mean_g.append(r.mean())\n",
    "    mean_b.append(r.mean())\n",
    "    \n",
    "    # image stds \n",
    "    std_r.append(r.std())\n",
    "    std_g.append(g.std())\n",
    "    std_b.append(b.std())\n",
    "    "
   ]
  },
  {
   "cell_type": "code",
   "execution_count": 8,
   "id": "568e3fda",
   "metadata": {},
   "outputs": [
    {
     "data": {
      "image/png": "[encoded data removed]",
      "text/plain": [
       "<Figure size 800x400 with 2 Axes>"
      ]
     },
     "metadata": {},
     "output_type": "display_data"
    }
   ],
   "source": [
    "fig, axs = plt.subplots(1, 2, figsize=(8, 4))\n",
    "\n",
    "axs[0].plot(image_w)\n",
    "axs[0].set_title(\"Line plot of the image width distribution\")\n",
    "\n",
    "axs[1].plot(image_h)\n",
    "axs[1].set_title(\"Line plot of the image height distribution\")\n",
    "\n",
    "# Adjust layout to prevent clipping of titles\n",
    "plt.tight_layout()\n",
    "\n",
    "\n",
    "plt.show()"
   ]
  },
  {
   "cell_type": "code",
   "execution_count": 9,
   "id": "33609ee4",
   "metadata": {},
   "outputs": [
    {
     "data": {
      "image/png": "[encoded data removed]",
      "text/plain": [
       "<Figure size 800x600 with 3 Axes>"
      ]
     },
     "metadata": {},
     "output_type": "display_data"
    }
   ],
   "source": [
    "import warnings\n",
    "\n",
    "# Ignore all UserWarnings\n",
    "warnings.filterwarnings(\"ignore\", category=UserWarning)\n",
    "\n",
    "\n",
    "fig, axs = plt.subplots(3, 1, figsize=(8, 6))\n",
    "\n",
    "\n",
    "sns.distplot(mean_r, hist=True, kde=True,\n",
    "             bins=int(180/5), color = 'darkblue',\n",
    "             hist_kws={'edgecolor':'black'},\n",
    "             kde_kws={'linewidth': 4}, ax=axs[0])\n",
    "axs[0].set_title(\"Distribution plot for Red color channel\")\n",
    "axs[0].set_xlabel(f\"The mean value of the channel: {np.mean(mean_r):.2f}\\nThe std value of the channel: {np.mean(std_r):.2f}\")\n",
    "\n",
    "sns.distplot(mean_r, hist=True, kde=True,\n",
    "             bins=int(180/5), color = 'darkblue',\n",
    "             hist_kws={'edgecolor':'black'},\n",
    "             kde_kws={'linewidth': 4},  ax=axs[1])\n",
    "axs[1].set_title(\"Distribution plot for Green color channel\")\n",
    "axs[1].set_xlabel(f\"The mean value of the channel: {np.mean(mean_g):.2f}\\nThe std value of the channel: {np.mean(std_g):.2f}\")\n",
    "\n",
    "sns.distplot(mean_r, hist=True, kde=True,\n",
    "             bins=int(180/5), color = 'darkblue',\n",
    "             hist_kws={'edgecolor':'black'},\n",
    "             kde_kws={'linewidth': 4}, ax=axs[2])\n",
    "axs[2].set_title(\"Distribution plot for Blue color channel\")\n",
    "axs[2].set_xlabel(f\"The mean value of the channel: {np.mean(mean_b):.2f}\\nThe std value of the channel: {np.mean(std_b):.2f}\")\n",
    "\n",
    "# Adjust layout to prevent clipping of titles\n",
    "plt.tight_layout()\n",
    "\n",
    "plt.show()"
   ]
  },
  {
   "cell_type": "code",
   "execution_count": 10,
   "id": "9a760b3b",
   "metadata": {},
   "outputs": [
    {
     "data": {
      "text/plain": [
       "array([0.63894559, 0.63894559, 0.63894559])"
      ]
     },
     "execution_count": 10,
     "metadata": {},
     "output_type": "execute_result"
    }
   ],
   "source": [
    "means = np.array([np.mean(mean_r), np.mean(mean_g), np.mean(mean_b)]) / 255.\n",
    "means"
   ]
  },
  {
   "cell_type": "code",
   "execution_count": 11,
   "id": "24fbec29",
   "metadata": {
    "scrolled": true
   },
   "outputs": [
    {
     "data": {
      "text/plain": [
       "array([0.23599487, 0.20144476, 0.18505558])"
      ]
     },
     "execution_count": 11,
     "metadata": {},
     "output_type": "execute_result"
    }
   ],
   "source": [
    "stds = np.array([np.mean(std_r), np.mean(std_g), np.mean(std_b)]) / 255.\n",
    "stds"
   ]
  },
  {
   "cell_type": "markdown",
   "id": "527a0888",
   "metadata": {},
   "source": [
    "# Image Augmentation"
   ]
  },
  {
   "cell_type": "code",
   "execution_count": 12,
   "id": "e322d5aa",
   "metadata": {},
   "outputs": [
    {
     "name": "stderr",
     "output_type": "stream",
     "text": [
      "C:\\Users\\yerda\\AppData\\Roaming\\Python\\Python311\\site-packages\\albumentations\\imgaug\\transforms.py:231: FutureWarning: IAASharpen is deprecated. Please use Sharpen instead\n",
      "  warnings.warn(\"IAASharpen is deprecated. Please use Sharpen instead\", FutureWarning)\n",
      "C:\\Users\\yerda\\AppData\\Roaming\\Python\\Python311\\site-packages\\albumentations\\imgaug\\transforms.py:174: FutureWarning: This augmentation is deprecated. Please use Emboss instead\n",
      "  warnings.warn(\"This augmentation is deprecated. Please use Emboss instead\", FutureWarning)\n"
     ]
    }
   ],
   "source": [
    "transformer = A.Compose([\n",
    "    A.Resize(width=224, height=224),\n",
    "    A.Normalize(mean=[0.63894559, 0.63894559, 0.63894559], std=[0.23599487, 0.20144476, 0.18505558]),\n",
    "    A.OneOf([\n",
    "        A.MotionBlur(p=.2),\n",
    "        A.MedianBlur(blur_limit=3, p=0.1),\n",
    "        A.Blur(blur_limit=3, p=0.1),\n",
    "    ], p=0.2),\n",
    "    A.ShiftScaleRotate(shift_limit=0.0525, scale_limit=0.1, rotate_limit=1, p=1),\n",
    "    A.GridDistortion(p=.2, border_mode=1),\n",
    "    A.OneOf([\n",
    "        A.IAASharpen(),\n",
    "        A.IAAEmboss(),\n",
    "        A.RandomBrightnessContrast(p=0.2),\n",
    "    ]),\n",
    "    ToTensorV2(),\n",
    "])\n",
    "\n",
    "val_transformer = A.Compose([\n",
    "    A.Resize(width=224, height=224),\n",
    "    A.Normalize(mean=[0.63894559, 0.63894559, 0.63894559], std=[0.23599487, 0.20144476, 0.18505558]),\n",
    "    ToTensorV2(),\n",
    "])"
   ]
  },
  {
   "cell_type": "markdown",
   "id": "eec5a833",
   "metadata": {},
   "source": [
    "# Dataset class"
   ]
  },
  {
   "cell_type": "code",
   "execution_count": 13,
   "id": "b5d7da1f",
   "metadata": {},
   "outputs": [],
   "source": [
    "# Dataset split\n",
    "train, test = train_test_split(data, test_size=0.2, random_state=1)\n",
    "\n",
    "train = train.reset_index(drop=True)\n",
    "test = test.reset_index(drop=True);\n",
    "\n",
    "train.to_csv(\"train.csv\", index=False)\n",
    "test.to_csv(\"test.csv\", index=False)"
   ]
  },
  {
   "cell_type": "code",
   "execution_count": 14,
   "id": "c83814ac",
   "metadata": {},
   "outputs": [],
   "source": [
    "class dataset(Dataset):\n",
    "    def __init__(self, df, encoder, transformer, path=\"data/Faces/Faces/\"):\n",
    "        super(dataset, self).__init__()\n",
    "        self.df = df\n",
    "        self.img_path = path\n",
    "        self.encoder = encoder\n",
    "        self.transformer = transformer\n",
    "    \n",
    "    def __len__(self,):\n",
    "        return len(self.df)\n",
    "    \n",
    "    def __getitem__(self, x):\n",
    "        image = self.df.at[x, \"id\"]\n",
    "        image = Image.open(self.img_path+image).convert(\"RGB\")\n",
    "        image = np.array(image)\n",
    "        image = self.transformer(image=image)['image']\n",
    "        \n",
    "        label = self.df.at[x, \"label\"]\n",
    "        label = self.encoder[label]\n",
    "        label = torch.tensor(label)\n",
    "        \n",
    "        return image, label"
   ]
  },
  {
   "cell_type": "code",
   "execution_count": 15,
   "id": "869b38dc",
   "metadata": {},
   "outputs": [],
   "source": [
    "trainLoader = DataLoader(dataset(train, encoder, transformer), batch_size=64, shuffle=True)\n",
    "testLoader = DataLoader(dataset(test, encoder, val_transformer), batch_size=64, shuffle=False)"
   ]
  },
  {
   "cell_type": "code",
   "execution_count": 16,
   "id": "e384b45c",
   "metadata": {},
   "outputs": [
    {
     "data": {
      "text/plain": [
       "torch.Size([64, 3, 224, 224])"
      ]
     },
     "execution_count": 16,
     "metadata": {},
     "output_type": "execute_result"
    }
   ],
   "source": [
    "image, i = next(iter(trainLoader))\n",
    "image.shape"
   ]
  },
  {
   "cell_type": "markdown",
   "id": "787d6099",
   "metadata": {},
   "source": [
    "# Model"
   ]
  },
  {
   "cell_type": "code",
   "execution_count": 17,
   "id": "7ca15412",
   "metadata": {},
   "outputs": [],
   "source": [
    "from torchvision.models import resnet18\n",
    "\n",
    "# Load pre-trained ResNet-18 model\n",
    "model = resnet18(pretrained=True)"
   ]
  },
  {
   "cell_type": "code",
   "execution_count": 18,
   "id": "bf024520",
   "metadata": {},
   "outputs": [],
   "source": [
    "# modify the last layer\n",
    "model.fc = torch.nn.Linear(in_features=512, out_features=256, bias=True)"
   ]
  },
  {
   "cell_type": "code",
   "execution_count": 19,
   "id": "86e52041",
   "metadata": {},
   "outputs": [],
   "source": [
    "class ResNet18(nn.Module):\n",
    "    def __init__(self, num_classes=31):\n",
    "        super(ResNet18, self).__init__()\n",
    "        self.resnet18 = resnet18(pretrained=True)\n",
    "        self.resnet18.fc = nn.Linear(in_features=512, out_features=256, bias=True)\n",
    "        self.out = nn.Linear(in_features=256, out_features=num_classes, bias=False)\n",
    "        \n",
    "    def forward(self, x):\n",
    "        x = self.resnet18(x)\n",
    "        return x, self.out(x)"
   ]
  },
  {
   "cell_type": "code",
   "execution_count": 20,
   "id": "5d84b597",
   "metadata": {},
   "outputs": [],
   "source": [
    "model = ResNet18()"
   ]
  },
  {
   "cell_type": "code",
   "execution_count": 21,
   "id": "58befdf6",
   "metadata": {},
   "outputs": [],
   "source": [
    "from torchsummary import summary"
   ]
  },
  {
   "cell_type": "code",
   "execution_count": 22,
   "id": "c6ec1724",
   "metadata": {
    "scrolled": true
   },
   "outputs": [
    {
     "name": "stdout",
     "output_type": "stream",
     "text": [
      "----------------------------------------------------------------\n",
      "        Layer (type)               Output Shape         Param #\n",
      "================================================================\n",
      "            Conv2d-1         [-1, 64, 112, 112]           9,408\n",
      "       BatchNorm2d-2         [-1, 64, 112, 112]             128\n",
      "              ReLU-3         [-1, 64, 112, 112]               0\n",
      "         MaxPool2d-4           [-1, 64, 56, 56]               0\n",
      "            Conv2d-5           [-1, 64, 56, 56]          36,864\n",
      "       BatchNorm2d-6           [-1, 64, 56, 56]             128\n",
      "              ReLU-7           [-1, 64, 56, 56]               0\n",
      "            Conv2d-8           [-1, 64, 56, 56]          36,864\n",
      "       BatchNorm2d-9           [-1, 64, 56, 56]             128\n",
      "             ReLU-10           [-1, 64, 56, 56]               0\n",
      "       BasicBlock-11           [-1, 64, 56, 56]               0\n",
      "           Conv2d-12           [-1, 64, 56, 56]          36,864\n",
      "      BatchNorm2d-13           [-1, 64, 56, 56]             128\n",
      "             ReLU-14           [-1, 64, 56, 56]               0\n",
      "           Conv2d-15           [-1, 64, 56, 56]          36,864\n",
      "      BatchNorm2d-16           [-1, 64, 56, 56]             128\n",
      "             ReLU-17           [-1, 64, 56, 56]               0\n",
      "       BasicBlock-18           [-1, 64, 56, 56]               0\n",
      "           Conv2d-19          [-1, 128, 28, 28]          73,728\n",
      "      BatchNorm2d-20          [-1, 128, 28, 28]             256\n",
      "             ReLU-21          [-1, 128, 28, 28]               0\n",
      "           Conv2d-22          [-1, 128, 28, 28]         147,456\n",
      "      BatchNorm2d-23          [-1, 128, 28, 28]             256\n",
      "           Conv2d-24          [-1, 128, 28, 28]           8,192\n",
      "      BatchNorm2d-25          [-1, 128, 28, 28]             256\n",
      "             ReLU-26          [-1, 128, 28, 28]               0\n",
      "       BasicBlock-27          [-1, 128, 28, 28]               0\n",
      "           Conv2d-28          [-1, 128, 28, 28]         147,456\n",
      "      BatchNorm2d-29          [-1, 128, 28, 28]             256\n",
      "             ReLU-30          [-1, 128, 28, 28]               0\n",
      "           Conv2d-31          [-1, 128, 28, 28]         147,456\n",
      "      BatchNorm2d-32          [-1, 128, 28, 28]             256\n",
      "             ReLU-33          [-1, 128, 28, 28]               0\n",
      "       BasicBlock-34          [-1, 128, 28, 28]               0\n",
      "           Conv2d-35          [-1, 256, 14, 14]         294,912\n",
      "      BatchNorm2d-36          [-1, 256, 14, 14]             512\n",
      "             ReLU-37          [-1, 256, 14, 14]               0\n",
      "           Conv2d-38          [-1, 256, 14, 14]         589,824\n",
      "      BatchNorm2d-39          [-1, 256, 14, 14]             512\n",
      "           Conv2d-40          [-1, 256, 14, 14]          32,768\n",
      "      BatchNorm2d-41          [-1, 256, 14, 14]             512\n",
      "             ReLU-42          [-1, 256, 14, 14]               0\n",
      "       BasicBlock-43          [-1, 256, 14, 14]               0\n",
      "           Conv2d-44          [-1, 256, 14, 14]         589,824\n",
      "      BatchNorm2d-45          [-1, 256, 14, 14]             512\n",
      "             ReLU-46          [-1, 256, 14, 14]               0\n",
      "           Conv2d-47          [-1, 256, 14, 14]         589,824\n",
      "      BatchNorm2d-48          [-1, 256, 14, 14]             512\n",
      "             ReLU-49          [-1, 256, 14, 14]               0\n",
      "       BasicBlock-50          [-1, 256, 14, 14]               0\n",
      "           Conv2d-51            [-1, 512, 7, 7]       1,179,648\n",
      "      BatchNorm2d-52            [-1, 512, 7, 7]           1,024\n",
      "             ReLU-53            [-1, 512, 7, 7]               0\n",
      "           Conv2d-54            [-1, 512, 7, 7]       2,359,296\n",
      "      BatchNorm2d-55            [-1, 512, 7, 7]           1,024\n",
      "           Conv2d-56            [-1, 512, 7, 7]         131,072\n",
      "      BatchNorm2d-57            [-1, 512, 7, 7]           1,024\n",
      "             ReLU-58            [-1, 512, 7, 7]               0\n",
      "       BasicBlock-59            [-1, 512, 7, 7]               0\n",
      "           Conv2d-60            [-1, 512, 7, 7]       2,359,296\n",
      "      BatchNorm2d-61            [-1, 512, 7, 7]           1,024\n",
      "             ReLU-62            [-1, 512, 7, 7]               0\n",
      "           Conv2d-63            [-1, 512, 7, 7]       2,359,296\n",
      "      BatchNorm2d-64            [-1, 512, 7, 7]           1,024\n",
      "             ReLU-65            [-1, 512, 7, 7]               0\n",
      "       BasicBlock-66            [-1, 512, 7, 7]               0\n",
      "AdaptiveAvgPool2d-67            [-1, 512, 1, 1]               0\n",
      "           Linear-68                  [-1, 256]         131,328\n",
      "           ResNet-69                  [-1, 256]               0\n",
      "           Linear-70                   [-1, 31]           7,936\n",
      "================================================================\n",
      "Total params: 11,315,776\n",
      "Trainable params: 11,315,776\n",
      "Non-trainable params: 0\n",
      "----------------------------------------------------------------\n",
      "Input size (MB): 0.57\n",
      "Forward/backward pass size (MB): 62.79\n",
      "Params size (MB): 43.17\n",
      "Estimated Total Size (MB): 106.53\n",
      "----------------------------------------------------------------\n"
     ]
    }
   ],
   "source": [
    "summary(model, (3, 224, 224), device='cpu')"
   ]
  },
  {
   "cell_type": "code",
   "execution_count": 23,
   "id": "7c6935ea",
   "metadata": {},
   "outputs": [],
   "source": [
    "class center_loss(nn.Module):\n",
    "    def __init__(self, lambdas=0.01, num_classes=10, feature_dim=256):\n",
    "        super(center_loss, self).__init__()\n",
    "        self.centers = nn.Parameter(torch.randn(num_classes, feature_dim))\n",
    "        self.entropy_loss = nn.CrossEntropyLoss()\n",
    "        self.lambdas = lambdas\n",
    "        \n",
    "        \n",
    "    def forward(self, features, output, labels):\n",
    "        cls_centers = self.centers.index_select(dim=0, index=labels)\n",
    "        \n",
    "        Lc = torch.pow(features - cls_centers, 2).sum() * 0.5\n",
    "        # assert len(cls_centers) == len(featrues), f\"They are not equal | {len(cls_centers)} | {len(features)}\"\n",
    "        La = self.entropy_loss(output, labels)\n",
    "        \n",
    "        return La + self.lambdas * Lc"
   ]
  },
  {
   "cell_type": "markdown",
   "id": "d51149ba",
   "metadata": {},
   "source": [
    "# Train"
   ]
  },
  {
   "cell_type": "code",
   "execution_count": 24,
   "id": "142e37e3",
   "metadata": {},
   "outputs": [],
   "source": [
    "model = model.to(device)\n",
    "optimizer = torch.optim.Adam(model.parameters(), lr=0.001)\n",
    "criterion = center_loss(num_classes=len(identities), ).to(device)"
   ]
  },
  {
   "cell_type": "code",
   "execution_count": 25,
   "id": "c264410f",
   "metadata": {},
   "outputs": [],
   "source": [
    "def save_model(model_name, epoch, prev_loss, current_loss, model, optimizer):\n",
    "    if prev_loss > current_loss:\n",
    "        torch.save({\n",
    "            \"epoch\": epoch,\n",
    "            \"model\": model.state_dict(),\n",
    "            \"optimizer\": optimizer.state_dict(),\n",
    "            \"loss\": current_loss,\n",
    "        }, f\"models/best_{model_name}.pt\") # create models folder before! \n",
    "        print(\"The best model was saved!\")\n",
    "        prev_loss = current_loss\n",
    "    \n",
    "    torch.save({\n",
    "            \"epoch\": epoch,\n",
    "            \"modelsz\": model.state_dict(),\n",
    "            \"optimizer\": optimizer.state_dict(),\n",
    "            \"loss\": current_loss,\n",
    "        }, f\"models/last_{model_name}.pt\")\n",
    "    return prev_loss\n",
    "\n",
    "\n",
    "os.makedirs(\"models\", exist_ok=True)\n",
    "\n",
    "num_epochs, prev_loss = 100, torch.inf\n",
    "train_loss, val_loss = [], []"
   ]
  },
  {
   "cell_type": "code",
   "execution_count": 26,
   "id": "ac1c333f",
   "metadata": {},
   "outputs": [
    {
     "name": "stderr",
     "output_type": "stream",
     "text": [
      "  1%|▊                                                                                 | 1/100 [00:16<26:24, 16.01s/it]"
     ]
    },
    {
     "name": "stdout",
     "output_type": "stream",
     "text": [
      "The best model was saved!\n",
      "Epoch: 0 | Training loss 73.17447286663634 | Validation loss 66.977349864112\n"
     ]
    },
    {
     "name": "stderr",
     "output_type": "stream",
     "text": [
      "\r",
      "  2%|█▋                                                                                | 2/100 [00:27<21:33, 13.20s/it]"
     ]
    },
    {
     "name": "stdout",
     "output_type": "stream",
     "text": [
      "The best model was saved!\n",
      "Epoch: 1 | Training loss 45.63422360564723 | Validation loss 53.454807652367485\n"
     ]
    },
    {
     "name": "stderr",
     "output_type": "stream",
     "text": [
      "\r",
      "  3%|██▍                                                                               | 3/100 [00:37<19:29, 12.05s/it]"
     ]
    },
    {
     "name": "stdout",
     "output_type": "stream",
     "text": [
      "The best model was saved!\n",
      "Epoch: 2 | Training loss 28.052792520234078 | Validation loss 28.04510533147388\n"
     ]
    },
    {
     "name": "stderr",
     "output_type": "stream",
     "text": [
      "\r",
      "  4%|███▎                                                                              | 4/100 [00:48<18:16, 11.42s/it]"
     ]
    },
    {
     "name": "stdout",
     "output_type": "stream",
     "text": [
      "Epoch: 3 | Training loss 18.184740189350013 | Validation loss 30.613249328401352\n"
     ]
    },
    {
     "name": "stderr",
     "output_type": "stream",
     "text": [
      "\r",
      "  5%|████                                                                              | 5/100 [00:58<17:34, 11.10s/it]"
     ]
    },
    {
     "name": "stdout",
     "output_type": "stream",
     "text": [
      "The best model was saved!\n",
      "Epoch: 4 | Training loss 15.242420254331646 | Validation loss 21.044287350442673\n"
     ]
    },
    {
     "name": "stderr",
     "output_type": "stream",
     "text": [
      "\r",
      "  6%|████▉                                                                             | 6/100 [01:09<17:06, 10.92s/it]"
     ]
    },
    {
     "name": "stdout",
     "output_type": "stream",
     "text": [
      "The best model was saved!\n",
      "Epoch: 5 | Training loss 11.005689895514285 | Validation loss 12.317581317491001\n"
     ]
    },
    {
     "name": "stderr",
     "output_type": "stream",
     "text": [
      "\r",
      "  7%|█████▋                                                                            | 7/100 [01:19<16:42, 10.78s/it]"
     ]
    },
    {
     "name": "stdout",
     "output_type": "stream",
     "text": [
      "Epoch: 6 | Training loss 9.370403130849203 | Validation loss 13.420163361562622\n"
     ]
    },
    {
     "name": "stderr",
     "output_type": "stream",
     "text": [
      "\r",
      "  8%|██████▌                                                                           | 8/100 [01:30<16:30, 10.76s/it]"
     ]
    },
    {
     "name": "stdout",
     "output_type": "stream",
     "text": [
      "The best model was saved!\n",
      "Epoch: 7 | Training loss 8.492139975229898 | Validation loss 10.997653266415\n"
     ]
    },
    {
     "name": "stderr",
     "output_type": "stream",
     "text": [
      "\r",
      "  9%|███████▍                                                                          | 9/100 [01:41<16:10, 10.66s/it]"
     ]
    },
    {
     "name": "stdout",
     "output_type": "stream",
     "text": [
      "Epoch: 8 | Training loss 7.518899715307987 | Validation loss 12.379653624776337\n"
     ]
    },
    {
     "name": "stderr",
     "output_type": "stream",
     "text": [
      "\r",
      " 10%|████████                                                                         | 10/100 [01:51<15:57, 10.63s/it]"
     ]
    },
    {
     "name": "stdout",
     "output_type": "stream",
     "text": [
      "The best model was saved!\n",
      "Epoch: 9 | Training loss 6.129040638605754 | Validation loss 8.280797908703486\n"
     ]
    },
    {
     "name": "stderr",
     "output_type": "stream",
     "text": [
      "\r",
      " 11%|████████▉                                                                        | 11/100 [02:02<15:43, 10.61s/it]"
     ]
    },
    {
     "name": "stdout",
     "output_type": "stream",
     "text": [
      "Epoch: 10 | Training loss 5.672750010634914 | Validation loss 9.03205238406857\n"
     ]
    },
    {
     "name": "stderr",
     "output_type": "stream",
     "text": [
      "\r",
      " 12%|█████████▋                                                                       | 12/100 [02:12<15:33, 10.61s/it]"
     ]
    },
    {
     "name": "stdout",
     "output_type": "stream",
     "text": [
      "The best model was saved!\n",
      "Epoch: 11 | Training loss 5.512926376227177 | Validation loss 7.779880479806\n"
     ]
    },
    {
     "name": "stderr",
     "output_type": "stream",
     "text": [
      "\r",
      " 13%|██████████▌                                                                      | 13/100 [02:23<15:22, 10.60s/it]"
     ]
    },
    {
     "name": "stdout",
     "output_type": "stream",
     "text": [
      "Epoch: 12 | Training loss 5.779577240799412 | Validation loss 9.540000556657711\n"
     ]
    },
    {
     "name": "stderr",
     "output_type": "stream",
     "text": [
      "\r",
      " 14%|███████████▎                                                                     | 14/100 [02:34<15:12, 10.61s/it]"
     ]
    },
    {
     "name": "stdout",
     "output_type": "stream",
     "text": [
      "The best model was saved!\n",
      "Epoch: 13 | Training loss 4.865733869148023 | Validation loss 7.562730886042118\n"
     ]
    },
    {
     "name": "stderr",
     "output_type": "stream",
     "text": [
      "\r",
      " 15%|████████████▏                                                                    | 15/100 [02:44<15:01, 10.61s/it]"
     ]
    },
    {
     "name": "stdout",
     "output_type": "stream",
     "text": [
      "The best model was saved!\n",
      "Epoch: 14 | Training loss 5.162286621151549 | Validation loss 7.159562729506029\n"
     ]
    },
    {
     "name": "stderr",
     "output_type": "stream",
     "text": [
      "\r",
      " 16%|████████████▉                                                                    | 16/100 [02:55<14:45, 10.55s/it]"
     ]
    },
    {
     "name": "stdout",
     "output_type": "stream",
     "text": [
      "Epoch: 15 | Training loss 5.268991275267168 | Validation loss 12.497116192140513\n"
     ]
    },
    {
     "name": "stderr",
     "output_type": "stream",
     "text": [
      "\r",
      " 17%|█████████████▊                                                                   | 17/100 [03:05<14:39, 10.59s/it]"
     ]
    },
    {
     "name": "stdout",
     "output_type": "stream",
     "text": [
      "Epoch: 16 | Training loss 5.045882470680006 | Validation loss 8.229351570415828\n"
     ]
    },
    {
     "name": "stderr",
     "output_type": "stream",
     "text": [
      "\r",
      " 18%|██████████████▌                                                                  | 18/100 [03:16<14:31, 10.63s/it]"
     ]
    },
    {
     "name": "stdout",
     "output_type": "stream",
     "text": [
      "Epoch: 17 | Training loss 4.513191093098033 | Validation loss 7.88490750392278\n"
     ]
    },
    {
     "name": "stderr",
     "output_type": "stream",
     "text": [
      "\r",
      " 19%|███████████████▍                                                                 | 19/100 [03:27<14:19, 10.61s/it]"
     ]
    },
    {
     "name": "stdout",
     "output_type": "stream",
     "text": [
      "Epoch: 18 | Training loss 4.486870635639537 | Validation loss 8.07083330510391\n"
     ]
    },
    {
     "name": "stderr",
     "output_type": "stream",
     "text": [
      "\r",
      " 20%|████████████████▏                                                                | 20/100 [03:37<14:07, 10.60s/it]"
     ]
    },
    {
     "name": "stdout",
     "output_type": "stream",
     "text": [
      "Epoch: 19 | Training loss 4.683731324744947 | Validation loss 9.888934422905246\n"
     ]
    },
    {
     "name": "stderr",
     "output_type": "stream",
     "text": [
      "\r",
      " 21%|█████████████████                                                                | 21/100 [03:47<13:51, 10.53s/it]"
     ]
    },
    {
     "name": "stdout",
     "output_type": "stream",
     "text": [
      "Epoch: 20 | Training loss 4.511997121753114 | Validation loss 7.600404356088903\n"
     ]
    },
    {
     "name": "stderr",
     "output_type": "stream",
     "text": [
      "\r",
      " 22%|█████████████████▊                                                               | 22/100 [03:58<13:44, 10.57s/it]"
     ]
    },
    {
     "name": "stdout",
     "output_type": "stream",
     "text": [
      "The best model was saved!\n",
      "Epoch: 21 | Training loss 3.9163222963159736 | Validation loss 6.063162336953813\n"
     ]
    },
    {
     "name": "stderr",
     "output_type": "stream",
     "text": [
      "\r",
      " 23%|██████████████████▋                                                              | 23/100 [04:09<13:34, 10.58s/it]"
     ]
    },
    {
     "name": "stdout",
     "output_type": "stream",
     "text": [
      "The best model was saved!\n",
      "Epoch: 22 | Training loss 3.9875845475630327 | Validation loss 5.537683903964029\n"
     ]
    },
    {
     "name": "stderr",
     "output_type": "stream",
     "text": [
      "\r",
      " 24%|███████████████████▍                                                             | 24/100 [04:19<13:24, 10.58s/it]"
     ]
    },
    {
     "name": "stdout",
     "output_type": "stream",
     "text": [
      "Epoch: 23 | Training loss 3.403056274760853 | Validation loss 5.9624962849128575\n"
     ]
    },
    {
     "name": "stderr",
     "output_type": "stream",
     "text": [
      "\r",
      " 25%|████████████████████▎                                                            | 25/100 [04:30<13:11, 10.56s/it]"
     ]
    },
    {
     "name": "stdout",
     "output_type": "stream",
     "text": [
      "Epoch: 24 | Training loss 3.063482176173817 | Validation loss 6.38907930875818\n"
     ]
    },
    {
     "name": "stderr",
     "output_type": "stream",
     "text": [
      "\r",
      " 26%|█████████████████████                                                            | 26/100 [04:41<13:04, 10.60s/it]"
     ]
    },
    {
     "name": "stdout",
     "output_type": "stream",
     "text": [
      "Epoch: 25 | Training loss 3.732012394702796 | Validation loss 6.008924073850115\n"
     ]
    },
    {
     "name": "stderr",
     "output_type": "stream",
     "text": [
      "\r",
      " 27%|█████████████████████▊                                                           | 27/100 [04:51<12:54, 10.62s/it]"
     ]
    },
    {
     "name": "stdout",
     "output_type": "stream",
     "text": [
      "Epoch: 26 | Training loss 3.5367407871015146 | Validation loss 6.046835701084799\n"
     ]
    },
    {
     "name": "stderr",
     "output_type": "stream",
     "text": [
      "\r",
      " 28%|██████████████████████▋                                                          | 28/100 [05:02<12:39, 10.54s/it]"
     ]
    },
    {
     "name": "stdout",
     "output_type": "stream",
     "text": [
      "Epoch: 27 | Training loss 3.296608390230121 | Validation loss 6.325571111920807\n"
     ]
    },
    {
     "name": "stderr",
     "output_type": "stream",
     "text": [
      "\r",
      " 29%|███████████████████████▍                                                         | 29/100 [05:12<12:29, 10.55s/it]"
     ]
    },
    {
     "name": "stdout",
     "output_type": "stream",
     "text": [
      "The best model was saved!\n",
      "Epoch: 28 | Training loss 3.8592298247597436 | Validation loss 5.4025577549926105\n"
     ]
    },
    {
     "name": "stderr",
     "output_type": "stream",
     "text": [
      "\r",
      " 30%|████████████████████████▎                                                        | 30/100 [05:23<12:19, 10.56s/it]"
     ]
    },
    {
     "name": "stdout",
     "output_type": "stream",
     "text": [
      "Epoch: 29 | Training loss 3.2503200950044575 | Validation loss 6.1101812898284855\n"
     ]
    },
    {
     "name": "stderr",
     "output_type": "stream",
     "text": [
      "\r",
      " 31%|█████████████████████████                                                        | 31/100 [05:34<12:33, 10.92s/it]"
     ]
    },
    {
     "name": "stdout",
     "output_type": "stream",
     "text": [
      "Epoch: 30 | Training loss 3.1226150519920117 | Validation loss 5.569338002138668\n"
     ]
    },
    {
     "name": "stderr",
     "output_type": "stream",
     "text": [
      "\r",
      " 32%|█████████████████████████▉                                                       | 32/100 [05:46<12:40, 11.19s/it]"
     ]
    },
    {
     "name": "stdout",
     "output_type": "stream",
     "text": [
      "The best model was saved!\n",
      "Epoch: 31 | Training loss 2.659182313716773 | Validation loss 4.5699205271278815\n"
     ]
    },
    {
     "name": "stderr",
     "output_type": "stream",
     "text": [
      "\r",
      " 33%|██████████████████████████▋                                                      | 33/100 [05:58<12:44, 11.42s/it]"
     ]
    },
    {
     "name": "stdout",
     "output_type": "stream",
     "text": [
      "Epoch: 32 | Training loss 2.4611090421676636 | Validation loss 4.976470611989498\n"
     ]
    },
    {
     "name": "stderr",
     "output_type": "stream",
     "text": [
      "\r",
      " 34%|███████████████████████████▌                                                     | 34/100 [06:11<13:06, 11.92s/it]"
     ]
    },
    {
     "name": "stdout",
     "output_type": "stream",
     "text": [
      "Epoch: 33 | Training loss 3.4702183369434243 | Validation loss 5.4851636124981775\n"
     ]
    },
    {
     "name": "stderr",
     "output_type": "stream",
     "text": [
      "\r",
      " 35%|████████████████████████████▎                                                    | 35/100 [06:22<12:39, 11.68s/it]"
     ]
    },
    {
     "name": "stdout",
     "output_type": "stream",
     "text": [
      "Epoch: 34 | Training loss 3.60678725531607 | Validation loss 7.477925890435775\n"
     ]
    },
    {
     "name": "stderr",
     "output_type": "stream",
     "text": [
      "\r",
      " 36%|█████████████████████████████▏                                                   | 36/100 [06:35<12:35, 11.80s/it]"
     ]
    },
    {
     "name": "stdout",
     "output_type": "stream",
     "text": [
      "Epoch: 35 | Training loss 3.9573920712326514 | Validation loss 6.764187864441839\n"
     ]
    },
    {
     "name": "stderr",
     "output_type": "stream",
     "text": [
      "\r",
      " 37%|█████████████████████████████▉                                                   | 37/100 [06:46<12:07, 11.55s/it]"
     ]
    },
    {
     "name": "stdout",
     "output_type": "stream",
     "text": [
      "The best model was saved!\n",
      "Epoch: 36 | Training loss 2.839485385201194 | Validation loss 4.125598231330514\n"
     ]
    },
    {
     "name": "stderr",
     "output_type": "stream",
     "text": [
      "\r",
      " 38%|██████████████████████████████▊                                                  | 38/100 [06:56<11:44, 11.36s/it]"
     ]
    },
    {
     "name": "stdout",
     "output_type": "stream",
     "text": [
      "Epoch: 37 | Training loss 2.5775569171616524 | Validation loss 4.924589621420536\n"
     ]
    },
    {
     "name": "stderr",
     "output_type": "stream",
     "text": [
      "\r",
      " 39%|███████████████████████████████▌                                                 | 39/100 [07:09<11:53, 11.70s/it]"
     ]
    },
    {
     "name": "stdout",
     "output_type": "stream",
     "text": [
      "Epoch: 38 | Training loss 2.878355958245017 | Validation loss 7.742542273054521\n"
     ]
    },
    {
     "name": "stderr",
     "output_type": "stream",
     "text": [
      "\r",
      " 40%|████████████████████████████████▍                                                | 40/100 [07:22<12:06, 12.11s/it]"
     ]
    },
    {
     "name": "stdout",
     "output_type": "stream",
     "text": [
      "Epoch: 39 | Training loss 3.071681174364957 | Validation loss 7.640504828343789\n"
     ]
    },
    {
     "name": "stderr",
     "output_type": "stream",
     "text": [
      "\r",
      " 41%|█████████████████████████████████▏                                               | 41/100 [07:35<12:01, 12.23s/it]"
     ]
    },
    {
     "name": "stdout",
     "output_type": "stream",
     "text": [
      "Epoch: 40 | Training loss 3.224742296970252 | Validation loss 5.547508485408293\n"
     ]
    },
    {
     "name": "stderr",
     "output_type": "stream",
     "text": [
      "\r",
      " 42%|██████████████████████████████████                                               | 42/100 [07:46<11:40, 12.08s/it]"
     ]
    },
    {
     "name": "stdout",
     "output_type": "stream",
     "text": [
      "Epoch: 41 | Training loss 2.2020831577705615 | Validation loss 4.42000483121309\n"
     ]
    },
    {
     "name": "stderr",
     "output_type": "stream",
     "text": [
      "\r",
      " 43%|██████████████████████████████████▊                                              | 43/100 [07:58<11:27, 12.05s/it]"
     ]
    },
    {
     "name": "stdout",
     "output_type": "stream",
     "text": [
      "Epoch: 42 | Training loss 2.2839083816065933 | Validation loss 4.640301398105091\n"
     ]
    },
    {
     "name": "stderr",
     "output_type": "stream",
     "text": [
      "\r",
      " 44%|███████████████████████████████████▋                                             | 44/100 [08:11<11:19, 12.14s/it]"
     ]
    },
    {
     "name": "stdout",
     "output_type": "stream",
     "text": [
      "Epoch: 43 | Training loss 2.2881950465115635 | Validation loss 4.248349207970831\n",
      "The best model was saved!\n"
     ]
    },
    {
     "name": "stderr",
     "output_type": "stream",
     "text": [
      "\r",
      " 45%|████████████████████████████████████▍                                            | 45/100 [08:23<11:08, 12.15s/it]"
     ]
    },
    {
     "name": "stdout",
     "output_type": "stream",
     "text": [
      "Epoch: 44 | Training loss 2.229329065843062 | Validation loss 3.9617867562919855\n",
      "The best model was saved!\n"
     ]
    },
    {
     "name": "stderr",
     "output_type": "stream",
     "text": [
      "\r",
      " 46%|█████████████████████████████████████▎                                           | 46/100 [08:37<11:35, 12.88s/it]"
     ]
    },
    {
     "name": "stdout",
     "output_type": "stream",
     "text": [
      "Epoch: 45 | Training loss 1.9456474419796106 | Validation loss 3.060234628824724\n"
     ]
    },
    {
     "name": "stderr",
     "output_type": "stream",
     "text": [
      "\r",
      " 47%|██████████████████████████████████████                                           | 47/100 [08:51<11:34, 13.11s/it]"
     ]
    },
    {
     "name": "stdout",
     "output_type": "stream",
     "text": [
      "Epoch: 46 | Training loss 1.895416223641598 | Validation loss 3.709840645392736\n"
     ]
    },
    {
     "name": "stderr",
     "output_type": "stream",
     "text": [
      "\r",
      " 48%|██████████████████████████████████████▉                                          | 48/100 [09:03<10:59, 12.68s/it]"
     ]
    },
    {
     "name": "stdout",
     "output_type": "stream",
     "text": [
      "Epoch: 47 | Training loss 2.068454796617681 | Validation loss 3.51522064084808\n"
     ]
    },
    {
     "name": "stderr",
     "output_type": "stream",
     "text": [
      "\r",
      " 49%|███████████████████████████████████████▋                                         | 49/100 [09:16<10:56, 12.86s/it]"
     ]
    },
    {
     "name": "stdout",
     "output_type": "stream",
     "text": [
      "Epoch: 48 | Training loss 1.8555399576822917 | Validation loss 4.642048961586422\n"
     ]
    },
    {
     "name": "stderr",
     "output_type": "stream",
     "text": [
      "\r",
      " 50%|████████████████████████████████████████▌                                        | 50/100 [09:31<11:17, 13.54s/it]"
     ]
    },
    {
     "name": "stdout",
     "output_type": "stream",
     "text": [
      "Epoch: 49 | Training loss 2.229731447768934 | Validation loss 4.006969813050495\n"
     ]
    },
    {
     "name": "stderr",
     "output_type": "stream",
     "text": [
      "\r",
      " 51%|█████████████████████████████████████████▎                                       | 51/100 [09:42<10:31, 12.89s/it]"
     ]
    },
    {
     "name": "stdout",
     "output_type": "stream",
     "text": [
      "Epoch: 50 | Training loss 2.547987771756721 | Validation loss 7.264872847849296\n"
     ]
    },
    {
     "name": "stderr",
     "output_type": "stream",
     "text": [
      "\r",
      " 52%|██████████████████████████████████████████                                       | 52/100 [09:54<09:55, 12.40s/it]"
     ]
    },
    {
     "name": "stdout",
     "output_type": "stream",
     "text": [
      "Epoch: 51 | Training loss 2.8653531110647954 | Validation loss 6.813769947737455\n"
     ]
    },
    {
     "name": "stderr",
     "output_type": "stream",
     "text": [
      "\r",
      " 53%|██████████████████████████████████████████▉                                      | 53/100 [10:05<09:24, 12.01s/it]"
     ]
    },
    {
     "name": "stdout",
     "output_type": "stream",
     "text": [
      "Epoch: 52 | Training loss 2.3902381080569644 | Validation loss 4.986515389548408\n"
     ]
    },
    {
     "name": "stderr",
     "output_type": "stream",
     "text": [
      "\r",
      " 54%|███████████████████████████████████████████▋                                     | 54/100 [10:16<09:00, 11.76s/it]"
     ]
    },
    {
     "name": "stdout",
     "output_type": "stream",
     "text": [
      "Epoch: 53 | Training loss 2.164906397010341 | Validation loss 6.197938696170847\n"
     ]
    },
    {
     "name": "stderr",
     "output_type": "stream",
     "text": [
      "\r",
      " 55%|████████████████████████████████████████████▌                                    | 55/100 [10:27<08:39, 11.55s/it]"
     ]
    },
    {
     "name": "stdout",
     "output_type": "stream",
     "text": [
      "Epoch: 54 | Training loss 2.0030983397454927 | Validation loss 5.2850084151658745\n"
     ]
    },
    {
     "name": "stderr",
     "output_type": "stream",
     "text": [
      "\r",
      " 56%|█████████████████████████████████████████████▎                                   | 56/100 [10:38<08:21, 11.39s/it]"
     ]
    },
    {
     "name": "stdout",
     "output_type": "stream",
     "text": [
      "Epoch: 55 | Training loss 1.9784133380109614 | Validation loss 5.571132929167813\n"
     ]
    },
    {
     "name": "stderr",
     "output_type": "stream",
     "text": [
      "\r",
      " 57%|██████████████████████████████████████████████▏                                  | 57/100 [10:49<08:05, 11.30s/it]"
     ]
    },
    {
     "name": "stdout",
     "output_type": "stream",
     "text": [
      "Epoch: 56 | Training loss 2.5290397116632173 | Validation loss 6.919426222331822\n"
     ]
    },
    {
     "name": "stderr",
     "output_type": "stream",
     "text": [
      "\r",
      " 58%|██████████████████████████████████████████████▉                                  | 58/100 [11:00<07:49, 11.18s/it]"
     ]
    },
    {
     "name": "stdout",
     "output_type": "stream",
     "text": [
      "Epoch: 57 | Training loss 2.4884368831461128 | Validation loss 6.443630687892437\n"
     ]
    },
    {
     "name": "stderr",
     "output_type": "stream",
     "text": [
      "\r",
      " 59%|███████████████████████████████████████████████▊                                 | 59/100 [11:11<07:36, 11.14s/it]"
     ]
    },
    {
     "name": "stdout",
     "output_type": "stream",
     "text": [
      "Epoch: 58 | Training loss 2.627012252807617 | Validation loss 7.617054313007328\n"
     ]
    },
    {
     "name": "stderr",
     "output_type": "stream",
     "text": [
      "\r",
      " 60%|████████████████████████████████████████████████▌                                | 60/100 [11:22<07:26, 11.17s/it]"
     ]
    },
    {
     "name": "stdout",
     "output_type": "stream",
     "text": [
      "Epoch: 59 | Training loss 2.5477740602059797 | Validation loss 5.447491326576306\n"
     ]
    },
    {
     "name": "stderr",
     "output_type": "stream",
     "text": [
      "\r",
      " 61%|█████████████████████████████████████████████████▍                               | 61/100 [11:34<07:21, 11.32s/it]"
     ]
    },
    {
     "name": "stdout",
     "output_type": "stream",
     "text": [
      "Epoch: 60 | Training loss 2.1158692981257583 | Validation loss 4.571781744249165\n"
     ]
    },
    {
     "name": "stderr",
     "output_type": "stream",
     "text": [
      "\r",
      " 62%|██████████████████████████████████████████████████▏                              | 62/100 [11:46<07:19, 11.56s/it]"
     ]
    },
    {
     "name": "stdout",
     "output_type": "stream",
     "text": [
      "Epoch: 61 | Training loss 2.0509930957447398 | Validation loss 7.9254940830998954\n"
     ]
    },
    {
     "name": "stderr",
     "output_type": "stream",
     "text": [
      "\r",
      " 63%|███████████████████████████████████████████████████                              | 63/100 [11:57<07:03, 11.45s/it]"
     ]
    },
    {
     "name": "stdout",
     "output_type": "stream",
     "text": [
      "Epoch: 62 | Training loss 2.152105829932473 | Validation loss 5.446627923287451\n"
     ]
    },
    {
     "name": "stderr",
     "output_type": "stream",
     "text": [
      "\r",
      " 64%|███████████████████████████████████████████████████▊                             | 64/100 [12:09<06:50, 11.39s/it]"
     ]
    },
    {
     "name": "stdout",
     "output_type": "stream",
     "text": [
      "Epoch: 63 | Training loss 2.2543883973901924 | Validation loss 4.144849316941367\n"
     ]
    },
    {
     "name": "stderr",
     "output_type": "stream",
     "text": [
      "\r",
      " 65%|████████████████████████████████████████████████████▋                            | 65/100 [12:20<06:36, 11.32s/it]"
     ]
    },
    {
     "name": "stdout",
     "output_type": "stream",
     "text": [
      "Epoch: 64 | Training loss 2.535971193602591 | Validation loss 9.73218524787161\n"
     ]
    },
    {
     "name": "stderr",
     "output_type": "stream",
     "text": [
      "\r",
      " 66%|█████████████████████████████████████████████████████▍                           | 66/100 [12:31<06:25, 11.34s/it]"
     ]
    },
    {
     "name": "stdout",
     "output_type": "stream",
     "text": [
      "Epoch: 65 | Training loss 2.3665652491829614 | Validation loss 5.034690455637044\n"
     ]
    },
    {
     "name": "stderr",
     "output_type": "stream",
     "text": [
      "\r",
      " 67%|██████████████████████████████████████████████████████▎                          | 67/100 [12:42<06:14, 11.34s/it]"
     ]
    },
    {
     "name": "stdout",
     "output_type": "stream",
     "text": [
      "Epoch: 66 | Training loss 2.1841786485729795 | Validation loss 4.647405212331149\n"
     ]
    },
    {
     "name": "stderr",
     "output_type": "stream",
     "text": [
      "\r",
      " 68%|███████████████████████████████████████████████████████                          | 68/100 [12:54<06:04, 11.39s/it]"
     ]
    },
    {
     "name": "stdout",
     "output_type": "stream",
     "text": [
      "Epoch: 67 | Training loss 2.1806153239625874 | Validation loss 5.360514962838756\n"
     ]
    },
    {
     "name": "stderr",
     "output_type": "stream",
     "text": [
      "\r",
      " 69%|███████████████████████████████████████████████████████▉                         | 69/100 [13:05<05:50, 11.31s/it]"
     ]
    },
    {
     "name": "stdout",
     "output_type": "stream",
     "text": [
      "Epoch: 68 | Training loss 1.6850875254833337 | Validation loss 5.235147229706247\n"
     ]
    },
    {
     "name": "stderr",
     "output_type": "stream",
     "text": [
      "\r",
      " 70%|████████████████████████████████████████████████████████▋                        | 70/100 [13:16<05:39, 11.30s/it]"
     ]
    },
    {
     "name": "stdout",
     "output_type": "stream",
     "text": [
      "Epoch: 69 | Training loss 2.2961320010098545 | Validation loss 4.585848958231509\n"
     ]
    },
    {
     "name": "stderr",
     "output_type": "stream",
     "text": [
      "\r",
      " 71%|█████████████████████████████████████████████████████████▌                       | 71/100 [13:28<05:27, 11.31s/it]"
     ]
    },
    {
     "name": "stdout",
     "output_type": "stream",
     "text": [
      "Epoch: 70 | Training loss 2.026161472002665 | Validation loss 4.816042753764325\n"
     ]
    },
    {
     "name": "stderr",
     "output_type": "stream",
     "text": [
      "\r",
      " 72%|██████████████████████████████████████████████████████████▎                      | 72/100 [13:39<05:16, 11.30s/it]"
     ]
    },
    {
     "name": "stdout",
     "output_type": "stream",
     "text": [
      "Epoch: 71 | Training loss 1.9711260199546814 | Validation loss 5.616214178916481\n"
     ]
    },
    {
     "name": "stderr",
     "output_type": "stream",
     "text": [
      "\r",
      " 73%|███████████████████████████████████████████████████████████▏                     | 73/100 [13:50<05:03, 11.23s/it]"
     ]
    },
    {
     "name": "stdout",
     "output_type": "stream",
     "text": [
      "Epoch: 72 | Training loss 2.005269892287977 | Validation loss 8.22401455976069\n"
     ]
    },
    {
     "name": "stderr",
     "output_type": "stream",
     "text": [
      "\r",
      " 74%|███████████████████████████████████████████████████████████▉                     | 74/100 [14:01<04:51, 11.23s/it]"
     ]
    },
    {
     "name": "stdout",
     "output_type": "stream",
     "text": [
      "Epoch: 73 | Training loss 2.188598815238837 | Validation loss 5.718248291665481\n"
     ]
    },
    {
     "name": "stderr",
     "output_type": "stream",
     "text": [
      "\r",
      " 75%|████████████████████████████████████████████████████████████▊                    | 75/100 [14:13<04:41, 11.26s/it]"
     ]
    },
    {
     "name": "stdout",
     "output_type": "stream",
     "text": [
      "Epoch: 74 | Training loss 2.149990060112693 | Validation loss 4.016814714349392\n"
     ]
    },
    {
     "name": "stderr",
     "output_type": "stream",
     "text": [
      "\r",
      " 76%|█████████████████████████████████████████████████████████████▌                   | 76/100 [14:23<04:25, 11.06s/it]"
     ]
    },
    {
     "name": "stdout",
     "output_type": "stream",
     "text": [
      "Epoch: 75 | Training loss 2.022523710221955 | Validation loss 5.4071582274304495\n"
     ]
    },
    {
     "name": "stderr",
     "output_type": "stream",
     "text": [
      "\r",
      " 77%|██████████████████████████████████████████████████████████████▎                  | 77/100 [14:34<04:10, 10.89s/it]"
     ]
    },
    {
     "name": "stdout",
     "output_type": "stream",
     "text": [
      "Epoch: 76 | Training loss 1.6550515276012998 | Validation loss 3.086473839978377\n"
     ]
    },
    {
     "name": "stderr",
     "output_type": "stream",
     "text": [
      "\r",
      " 78%|███████████████████████████████████████████████████████████████▏                 | 78/100 [14:44<03:58, 10.83s/it]"
     ]
    },
    {
     "name": "stdout",
     "output_type": "stream",
     "text": [
      "The best model was saved!\n",
      "Epoch: 77 | Training loss 1.7006848309979294 | Validation loss 3.044433097148107\n"
     ]
    },
    {
     "name": "stderr",
     "output_type": "stream",
     "text": [
      "\r",
      " 79%|███████████████████████████████████████████████████████████████▉                 | 79/100 [14:55<03:45, 10.75s/it]"
     ]
    },
    {
     "name": "stdout",
     "output_type": "stream",
     "text": [
      "Epoch: 78 | Training loss 2.0081869309598748 | Validation loss 4.400436859474414\n"
     ]
    },
    {
     "name": "stderr",
     "output_type": "stream",
     "text": [
      "\r",
      " 80%|████████████████████████████████████████████████████████████████▊                | 80/100 [15:05<03:33, 10.69s/it]"
     ]
    },
    {
     "name": "stdout",
     "output_type": "stream",
     "text": [
      "Epoch: 79 | Training loss 1.5356924425471912 | Validation loss 4.667777009515299\n"
     ]
    },
    {
     "name": "stderr",
     "output_type": "stream",
     "text": [
      "\r",
      " 81%|█████████████████████████████████████████████████████████████████▌               | 81/100 [15:16<03:21, 10.62s/it]"
     ]
    },
    {
     "name": "stdout",
     "output_type": "stream",
     "text": [
      "Epoch: 80 | Training loss 2.019892297007821 | Validation loss 5.226734528525008\n"
     ]
    },
    {
     "name": "stderr",
     "output_type": "stream",
     "text": [
      "\r",
      " 82%|██████████████████████████████████████████████████████████████████▍              | 82/100 [15:27<03:11, 10.63s/it]"
     ]
    },
    {
     "name": "stdout",
     "output_type": "stream",
     "text": [
      "Epoch: 81 | Training loss 1.4696737816839507 | Validation loss 3.5789595676792993\n"
     ]
    },
    {
     "name": "stderr",
     "output_type": "stream",
     "text": [
      "\r",
      " 83%|███████████████████████████████████████████████████████████████████▏             | 83/100 [15:37<02:59, 10.59s/it]"
     ]
    },
    {
     "name": "stdout",
     "output_type": "stream",
     "text": [
      "Epoch: 82 | Training loss 1.2390693859620527 | Validation loss 3.227819451958769\n"
     ]
    },
    {
     "name": "stderr",
     "output_type": "stream",
     "text": [
      "\r",
      " 84%|████████████████████████████████████████████████████████████████████             | 84/100 [15:48<02:49, 10.61s/it]"
     ]
    },
    {
     "name": "stdout",
     "output_type": "stream",
     "text": [
      "The best model was saved!\n",
      "Epoch: 83 | Training loss 1.2548952373591336 | Validation loss 3.039313604744772\n"
     ]
    },
    {
     "name": "stderr",
     "output_type": "stream",
     "text": [
      "\r",
      " 85%|████████████████████████████████████████████████████████████████████▊            | 85/100 [15:59<02:40, 10.69s/it]"
     ]
    },
    {
     "name": "stdout",
     "output_type": "stream",
     "text": [
      "The best model was saved!\n",
      "Epoch: 84 | Training loss 1.2850549239100832 | Validation loss 2.757287498046127\n"
     ]
    },
    {
     "name": "stderr",
     "output_type": "stream",
     "text": [
      "\r",
      " 86%|█████████████████████████████████████████████████████████████████████▋           | 86/100 [16:09<02:28, 10.63s/it]"
     ]
    },
    {
     "name": "stdout",
     "output_type": "stream",
     "text": [
      "Epoch: 85 | Training loss 1.1665900873415398 | Validation loss 2.761793858682116\n"
     ]
    },
    {
     "name": "stderr",
     "output_type": "stream",
     "text": [
      "\r",
      " 87%|██████████████████████████████████████████████████████████████████████▍          | 87/100 [16:20<02:17, 10.60s/it]"
     ]
    },
    {
     "name": "stdout",
     "output_type": "stream",
     "text": [
      "Epoch: 86 | Training loss 1.0197297424981089 | Validation loss 3.8327409168705344\n"
     ]
    },
    {
     "name": "stderr",
     "output_type": "stream",
     "text": [
      "\r",
      " 88%|███████████████████████████████████████████████████████████████████████▎         | 88/100 [16:30<02:06, 10.58s/it]"
     ]
    },
    {
     "name": "stdout",
     "output_type": "stream",
     "text": [
      "Epoch: 87 | Training loss 1.2937808253548362 | Validation loss 3.990234796785646\n"
     ]
    },
    {
     "name": "stderr",
     "output_type": "stream",
     "text": [
      "\r",
      " 89%|████████████████████████████████████████████████████████████████████████         | 89/100 [16:41<01:56, 10.60s/it]"
     ]
    },
    {
     "name": "stdout",
     "output_type": "stream",
     "text": [
      "Epoch: 88 | Training loss 1.3866933764833393 | Validation loss 3.535372981077267\n"
     ]
    },
    {
     "name": "stderr",
     "output_type": "stream",
     "text": [
      "\r",
      " 90%|████████████████████████████████████████████████████████████████████████▉        | 90/100 [16:51<01:45, 10.59s/it]"
     ]
    },
    {
     "name": "stdout",
     "output_type": "stream",
     "text": [
      "Epoch: 89 | Training loss 1.6586450067433445 | Validation loss 3.964104395877156\n"
     ]
    },
    {
     "name": "stderr",
     "output_type": "stream",
     "text": [
      "\r",
      " 91%|█████████████████████████████████████████████████████████████████████████▋       | 91/100 [17:02<01:35, 10.57s/it]"
     ]
    },
    {
     "name": "stdout",
     "output_type": "stream",
     "text": [
      "Epoch: 90 | Training loss 1.6031365972576719 | Validation loss 4.9928314129097595\n"
     ]
    },
    {
     "name": "stderr",
     "output_type": "stream",
     "text": [
      "\r",
      " 92%|██████████████████████████████████████████████████████████████████████████▌      | 92/100 [17:12<01:24, 10.58s/it]"
     ]
    },
    {
     "name": "stdout",
     "output_type": "stream",
     "text": [
      "Epoch: 91 | Training loss 1.5656844991626162 | Validation loss 4.4681183798238635\n"
     ]
    },
    {
     "name": "stderr",
     "output_type": "stream",
     "text": [
      "\r",
      " 93%|███████████████████████████████████████████████████████████████████████████▎     | 93/100 [17:23<01:14, 10.58s/it]"
     ]
    },
    {
     "name": "stdout",
     "output_type": "stream",
     "text": [
      "Epoch: 92 | Training loss 1.8100667397181194 | Validation loss 3.8626342521359525\n"
     ]
    },
    {
     "name": "stderr",
     "output_type": "stream",
     "text": [
      "\r",
      " 94%|████████████████████████████████████████████████████████████████████████████▏    | 94/100 [17:34<01:03, 10.56s/it]"
     ]
    },
    {
     "name": "stdout",
     "output_type": "stream",
     "text": [
      "Epoch: 93 | Training loss 1.3453362331245884 | Validation loss 3.7732989828412733\n"
     ]
    },
    {
     "name": "stderr",
     "output_type": "stream",
     "text": [
      "\r",
      " 95%|████████████████████████████████████████████████████████████████████████████▉    | 95/100 [17:44<00:52, 10.59s/it]"
     ]
    },
    {
     "name": "stdout",
     "output_type": "stream",
     "text": [
      "Epoch: 94 | Training loss 1.582442794785355 | Validation loss 4.288946012035012\n"
     ]
    },
    {
     "name": "stderr",
     "output_type": "stream",
     "text": [
      "\r",
      " 96%|█████████████████████████████████████████████████████████████████████████████▊   | 96/100 [17:55<00:42, 10.55s/it]"
     ]
    },
    {
     "name": "stdout",
     "output_type": "stream",
     "text": [
      "Epoch: 95 | Training loss 1.9423677830985098 | Validation loss 5.993721742596891\n"
     ]
    },
    {
     "name": "stderr",
     "output_type": "stream",
     "text": [
      "\r",
      " 97%|██████████████████████████████████████████████████████████████████████████████▌  | 97/100 [18:05<00:31, 10.60s/it]"
     ]
    },
    {
     "name": "stdout",
     "output_type": "stream",
     "text": [
      "Epoch: 96 | Training loss 1.93690702048215 | Validation loss 3.473397590426935\n"
     ]
    },
    {
     "name": "stderr",
     "output_type": "stream",
     "text": [
      "\r",
      " 98%|███████████████████████████████████████████████████████████████████████████████▍ | 98/100 [18:16<00:21, 10.66s/it]"
     ]
    },
    {
     "name": "stdout",
     "output_type": "stream",
     "text": [
      "Epoch: 97 | Training loss 1.7434494242523655 | Validation loss 4.404005809790558\n"
     ]
    },
    {
     "name": "stderr",
     "output_type": "stream",
     "text": [
      "\r",
      " 99%|████████████████████████████████████████████████████████████████████████████████▏| 99/100 [18:27<00:10, 10.64s/it]"
     ]
    },
    {
     "name": "stdout",
     "output_type": "stream",
     "text": [
      "Epoch: 98 | Training loss 1.5038516665949966 | Validation loss 3.788509714934561\n"
     ]
    },
    {
     "name": "stderr",
     "output_type": "stream",
     "text": [
      "100%|████████████████████████████████████████████████████████████████████████████████| 100/100 [18:37<00:00, 11.18s/it]"
     ]
    },
    {
     "name": "stdout",
     "output_type": "stream",
     "text": [
      "Epoch: 99 | Training loss 1.1151808066801592 | Validation loss 4.102551629249421\n"
     ]
    },
    {
     "name": "stderr",
     "output_type": "stream",
     "text": [
      "\n"
     ]
    }
   ],
   "source": [
    "train_loss, val_loss = [], []\n",
    "\n",
    "\n",
    "for epoch in tqdm.trange(num_epochs):\n",
    "    model.train()\n",
    "    loss_list, count, FE_train = 0, 0, []\n",
    "    for images, targets in trainLoader:\n",
    "        images = images.to(device)\n",
    "        targets = targets.to(device)\n",
    "        optimizer.zero_grad()\n",
    "        \n",
    "        features, output = model(images)\n",
    "        \n",
    "        loss = criterion(features, output, targets)\n",
    "        loss.backward()\n",
    "        optimizer.step()\n",
    "        loss_list += loss.item()\n",
    "        count += 1\n",
    "    loss = loss_list/count\n",
    "    train_loss.append(loss)\n",
    "    model.eval()\n",
    "    @torch.no_grad()\n",
    "    def validation():\n",
    "        val_loss, val_counter, FE_VAL = 0, 0, []\n",
    "        for images, targets in testLoader:\n",
    "            images = images.to(device)\n",
    "            targets = targets.to(device)\n",
    "            \n",
    "            features, output = model(images)\n",
    "            loss = criterion(features, output, targets)\n",
    "            val_loss += loss.item()\n",
    "            val_counter += 1\n",
    "        return val_loss / val_counter\n",
    "    v_loss = validation()\n",
    "    val_loss.append(v_loss)\n",
    "    \n",
    "    prev_loss = save_model(\"resnet18\", epoch, prev_loss, v_loss, model, optimizer)\n",
    "    print(f\"Epoch: {epoch} | Training loss {loss} | Validation loss {v_loss}\")"
   ]
  },
  {
   "cell_type": "code",
   "execution_count": 27,
   "id": "7ba0ec70",
   "metadata": {},
   "outputs": [
    {
     "data": {
      "text/plain": [
       "100"
      ]
     },
     "execution_count": 27,
     "metadata": {},
     "output_type": "execute_result"
    }
   ],
   "source": [
    "len(train_loss)"
   ]
  },
  {
   "cell_type": "code",
   "execution_count": 28,
   "id": "8760bda5",
   "metadata": {},
   "outputs": [],
   "source": [
    "# pd.DataFrame({\n",
    "#     \"epochs\": range(0, len(train_loss)),\n",
    "#     \"train_loss\": train_loss,\n",
    "#     \"val_loss\": val_loss\n",
    "# }).to_csv(\"center_losses_100.csv\", index=False)"
   ]
  },
  {
   "cell_type": "code",
   "execution_count": 29,
   "id": "ce8b4652",
   "metadata": {},
   "outputs": [
    {
     "data": {
      "text/plain": [
       "dict_keys(['epoch', 'model', 'optimizer', 'loss'])"
      ]
     },
     "execution_count": 29,
     "metadata": {},
     "output_type": "execute_result"
    }
   ],
   "source": [
    "df = pd.read_csv(\"center_losses_100.csv\")\n",
    "checkpoint = torch.load(\"models/best_resnet18.pt\")\n",
    "checkpoint.keys()"
   ]
  },
  {
   "cell_type": "code",
   "execution_count": 30,
   "id": "0952664b",
   "metadata": {},
   "outputs": [
    {
     "data": {
      "image/png": "[encoded data removed]",
      "text/plain": [
       "<Figure size 640x480 with 1 Axes>"
      ]
     },
     "metadata": {},
     "output_type": "display_data"
    }
   ],
   "source": [
    "plt.plot(df.train_loss)\n",
    "plt.plot(df.val_loss)\n",
    "plt.xlabel(f\"The best model was saved at {checkpoint['epoch']}th iteration with val loss: {checkpoint['loss']:.4f}\")\n",
    "plt.show()"
   ]
  },
  {
   "cell_type": "code",
   "execution_count": 195,
   "id": "90020224",
   "metadata": {},
   "outputs": [],
   "source": [
    "from torchvision.models import resnet18\n",
    "\n",
    "model = resnet18(weights=None).to(device)\n",
    "model.fc = torch.nn.Linear(in_features=512, out_features=256, bias=True)"
   ]
  },
  {
   "cell_type": "code",
   "execution_count": 31,
   "id": "8b305ecf",
   "metadata": {},
   "outputs": [],
   "source": [
    "# model.load_state_dict(checkpoint['model'])"
   ]
  },
  {
   "cell_type": "code",
   "execution_count": null,
   "id": "9ca5182f",
   "metadata": {},
   "outputs": [],
   "source": []
  },
  {
   "cell_type": "markdown",
   "id": "6adfe5e6",
   "metadata": {},
   "source": [
    "# Finding a threshold"
   ]
  },
  {
   "cell_type": "code",
   "execution_count": 41,
   "id": "a5f5d13d",
   "metadata": {},
   "outputs": [
    {
     "name": "stderr",
     "output_type": "stream",
     "text": [
      "100%|████████████████████████████████████████████████████████████████████████████████████| 9/9 [00:01<00:00,  6.97it/s]\n"
     ]
    }
   ],
   "source": [
    "embeddings = []\n",
    "\n",
    "model.eval()\n",
    "with torch.no_grad():\n",
    "    for images, targets in tqdm.tqdm(testLoader):\n",
    "        images = images.to(device)\n",
    "        targets = targets.to(device)\n",
    "\n",
    "        features, output = model(images)\n",
    "        for vector in features:\n",
    "            embeddings.append(vector.cpu().numpy())"
   ]
  },
  {
   "cell_type": "code",
   "execution_count": 45,
   "id": "265937b7",
   "metadata": {},
   "outputs": [
    {
     "data": {
      "text/plain": [
       "(256,)"
      ]
     },
     "execution_count": 45,
     "metadata": {},
     "output_type": "execute_result"
    }
   ],
   "source": [
    "embeddings[0].shape"
   ]
  },
  {
   "cell_type": "code",
   "execution_count": 46,
   "id": "342f10c3",
   "metadata": {},
   "outputs": [],
   "source": [
    "ddf = pd.DataFrame({\n",
    "    \"feature_vector\": embeddings\n",
    "})"
   ]
  },
  {
   "cell_type": "code",
   "execution_count": 47,
   "id": "edd27952",
   "metadata": {},
   "outputs": [],
   "source": [
    "import warnings\n",
    "\n",
    "# Ignore all warnings\n",
    "warnings.filterwarnings(\"ignore\")"
   ]
  },
  {
   "cell_type": "code",
   "execution_count": 48,
   "id": "c513cbdf",
   "metadata": {},
   "outputs": [],
   "source": [
    "columns = [\"feature_\"+str(i) for i in range(0, 256)]\n",
    "ddf[columns] = pd.DataFrame(ddf['feature_vector'].tolist(), index=ddf.index)\n",
    "ddf = ddf.drop(columns=['feature_vector'])\n",
    "ddf = pd.concat([test, ddf], axis=1)\n",
    "ddf.to_csv(\"test_feature_vectors_center_loss.csv\", index=False)"
   ]
  },
  {
   "cell_type": "code",
   "execution_count": 49,
   "id": "65797765",
   "metadata": {},
   "outputs": [
    {
     "data": {
      "text/html": [
       "<div>\n",
       "<style scoped>\n",
       "    .dataframe tbody tr th:only-of-type {\n",
       "        vertical-align: middle;\n",
       "    }\n",
       "\n",
       "    .dataframe tbody tr th {\n",
       "        vertical-align: top;\n",
       "    }\n",
       "\n",
       "    .dataframe thead th {\n",
       "        text-align: right;\n",
       "    }\n",
       "</style>\n",
       "<table border=\"1\" class=\"dataframe\">\n",
       "  <thead>\n",
       "    <tr style=\"text-align: right;\">\n",
       "      <th></th>\n",
       "      <th>id</th>\n",
       "      <th>label</th>\n",
       "      <th>feature_0</th>\n",
       "      <th>feature_1</th>\n",
       "      <th>feature_2</th>\n",
       "      <th>feature_3</th>\n",
       "      <th>feature_4</th>\n",
       "      <th>feature_5</th>\n",
       "      <th>feature_6</th>\n",
       "      <th>feature_7</th>\n",
       "      <th>...</th>\n",
       "      <th>feature_246</th>\n",
       "      <th>feature_247</th>\n",
       "      <th>feature_248</th>\n",
       "      <th>feature_249</th>\n",
       "      <th>feature_250</th>\n",
       "      <th>feature_251</th>\n",
       "      <th>feature_252</th>\n",
       "      <th>feature_253</th>\n",
       "      <th>feature_254</th>\n",
       "      <th>feature_255</th>\n",
       "    </tr>\n",
       "  </thead>\n",
       "  <tbody>\n",
       "    <tr>\n",
       "      <th>0</th>\n",
       "      <td>Zac Efron_60.jpg</td>\n",
       "      <td>Zac Efron</td>\n",
       "      <td>-1.760520</td>\n",
       "      <td>-0.836008</td>\n",
       "      <td>0.798890</td>\n",
       "      <td>1.033375</td>\n",
       "      <td>0.623507</td>\n",
       "      <td>-1.186337</td>\n",
       "      <td>-1.185222</td>\n",
       "      <td>-0.197013</td>\n",
       "      <td>...</td>\n",
       "      <td>-0.918334</td>\n",
       "      <td>-0.381150</td>\n",
       "      <td>1.364439</td>\n",
       "      <td>0.671677</td>\n",
       "      <td>-1.062970</td>\n",
       "      <td>-0.009317</td>\n",
       "      <td>-0.584523</td>\n",
       "      <td>-1.448803</td>\n",
       "      <td>3.050221</td>\n",
       "      <td>-0.160683</td>\n",
       "    </tr>\n",
       "    <tr>\n",
       "      <th>1</th>\n",
       "      <td>Elizabeth Olsen_0.jpg</td>\n",
       "      <td>Elizabeth Olsen</td>\n",
       "      <td>0.024142</td>\n",
       "      <td>0.496284</td>\n",
       "      <td>-0.552204</td>\n",
       "      <td>0.339686</td>\n",
       "      <td>0.328761</td>\n",
       "      <td>-0.496818</td>\n",
       "      <td>-0.589094</td>\n",
       "      <td>-0.857496</td>\n",
       "      <td>...</td>\n",
       "      <td>0.992106</td>\n",
       "      <td>-0.886638</td>\n",
       "      <td>0.893636</td>\n",
       "      <td>-0.134451</td>\n",
       "      <td>0.823998</td>\n",
       "      <td>1.016782</td>\n",
       "      <td>-0.351759</td>\n",
       "      <td>0.494451</td>\n",
       "      <td>-0.593570</td>\n",
       "      <td>0.567497</td>\n",
       "    </tr>\n",
       "    <tr>\n",
       "      <th>2</th>\n",
       "      <td>Jessica Alba_22.jpg</td>\n",
       "      <td>Jessica Alba</td>\n",
       "      <td>-0.611679</td>\n",
       "      <td>0.558979</td>\n",
       "      <td>-1.450023</td>\n",
       "      <td>-0.440779</td>\n",
       "      <td>1.710741</td>\n",
       "      <td>-0.426802</td>\n",
       "      <td>-0.051814</td>\n",
       "      <td>-1.088931</td>\n",
       "      <td>...</td>\n",
       "      <td>1.454296</td>\n",
       "      <td>1.465587</td>\n",
       "      <td>-1.540708</td>\n",
       "      <td>-1.956587</td>\n",
       "      <td>0.237458</td>\n",
       "      <td>-0.007816</td>\n",
       "      <td>-0.230256</td>\n",
       "      <td>0.203086</td>\n",
       "      <td>-1.945978</td>\n",
       "      <td>0.286759</td>\n",
       "    </tr>\n",
       "    <tr>\n",
       "      <th>3</th>\n",
       "      <td>Dwayne Johnson_10.jpg</td>\n",
       "      <td>Dwayne Johnson</td>\n",
       "      <td>-0.137061</td>\n",
       "      <td>-1.442176</td>\n",
       "      <td>-1.916911</td>\n",
       "      <td>-0.588693</td>\n",
       "      <td>-0.062530</td>\n",
       "      <td>-0.830929</td>\n",
       "      <td>0.559717</td>\n",
       "      <td>-0.161158</td>\n",
       "      <td>...</td>\n",
       "      <td>1.616928</td>\n",
       "      <td>1.546604</td>\n",
       "      <td>0.630572</td>\n",
       "      <td>-0.454785</td>\n",
       "      <td>-0.587831</td>\n",
       "      <td>-0.578592</td>\n",
       "      <td>0.702713</td>\n",
       "      <td>1.662765</td>\n",
       "      <td>-0.689047</td>\n",
       "      <td>0.493829</td>\n",
       "    </tr>\n",
       "    <tr>\n",
       "      <th>4</th>\n",
       "      <td>Claire Holt_67.jpg</td>\n",
       "      <td>Claire Holt</td>\n",
       "      <td>0.749410</td>\n",
       "      <td>0.077539</td>\n",
       "      <td>-0.751555</td>\n",
       "      <td>-1.085508</td>\n",
       "      <td>0.084830</td>\n",
       "      <td>-0.865636</td>\n",
       "      <td>-1.138106</td>\n",
       "      <td>-0.536337</td>\n",
       "      <td>...</td>\n",
       "      <td>0.644378</td>\n",
       "      <td>0.971796</td>\n",
       "      <td>-1.949165</td>\n",
       "      <td>-0.683661</td>\n",
       "      <td>1.193235</td>\n",
       "      <td>0.046037</td>\n",
       "      <td>1.507033</td>\n",
       "      <td>-0.547462</td>\n",
       "      <td>0.765345</td>\n",
       "      <td>-1.470929</td>\n",
       "    </tr>\n",
       "  </tbody>\n",
       "</table>\n",
       "<p>5 rows × 258 columns</p>\n",
       "</div>"
      ],
      "text/plain": [
       "                      id            label  feature_0  feature_1  feature_2  \\\n",
       "0       Zac Efron_60.jpg        Zac Efron  -1.760520  -0.836008   0.798890   \n",
       "1  Elizabeth Olsen_0.jpg  Elizabeth Olsen   0.024142   0.496284  -0.552204   \n",
       "2    Jessica Alba_22.jpg     Jessica Alba  -0.611679   0.558979  -1.450023   \n",
       "3  Dwayne Johnson_10.jpg   Dwayne Johnson  -0.137061  -1.442176  -1.916911   \n",
       "4     Claire Holt_67.jpg      Claire Holt   0.749410   0.077539  -0.751555   \n",
       "\n",
       "   feature_3  feature_4  feature_5  feature_6  feature_7  ...  feature_246  \\\n",
       "0   1.033375   0.623507  -1.186337  -1.185222  -0.197013  ...    -0.918334   \n",
       "1   0.339686   0.328761  -0.496818  -0.589094  -0.857496  ...     0.992106   \n",
       "2  -0.440779   1.710741  -0.426802  -0.051814  -1.088931  ...     1.454296   \n",
       "3  -0.588693  -0.062530  -0.830929   0.559717  -0.161158  ...     1.616928   \n",
       "4  -1.085508   0.084830  -0.865636  -1.138106  -0.536337  ...     0.644378   \n",
       "\n",
       "   feature_247  feature_248  feature_249  feature_250  feature_251  \\\n",
       "0    -0.381150     1.364439     0.671677    -1.062970    -0.009317   \n",
       "1    -0.886638     0.893636    -0.134451     0.823998     1.016782   \n",
       "2     1.465587    -1.540708    -1.956587     0.237458    -0.007816   \n",
       "3     1.546604     0.630572    -0.454785    -0.587831    -0.578592   \n",
       "4     0.971796    -1.949165    -0.683661     1.193235     0.046037   \n",
       "\n",
       "   feature_252  feature_253  feature_254  feature_255  \n",
       "0    -0.584523    -1.448803     3.050221    -0.160683  \n",
       "1    -0.351759     0.494451    -0.593570     0.567497  \n",
       "2    -0.230256     0.203086    -1.945978     0.286759  \n",
       "3     0.702713     1.662765    -0.689047     0.493829  \n",
       "4     1.507033    -0.547462     0.765345    -1.470929  \n",
       "\n",
       "[5 rows x 258 columns]"
      ]
     },
     "execution_count": 49,
     "metadata": {},
     "output_type": "execute_result"
    }
   ],
   "source": [
    "ddf.head()"
   ]
  },
  {
   "cell_type": "code",
   "execution_count": 50,
   "id": "caccf4ab",
   "metadata": {},
   "outputs": [],
   "source": [
    "one_person = ddf[ddf.label == \"Zac Efron\"].copy()"
   ]
  },
  {
   "cell_type": "code",
   "execution_count": 51,
   "id": "17c2de6d",
   "metadata": {},
   "outputs": [],
   "source": [
    "first = one_person.values[0][2:]"
   ]
  },
  {
   "cell_type": "code",
   "execution_count": 52,
   "id": "d64225a8",
   "metadata": {},
   "outputs": [],
   "source": [
    "positive_others = one_person.values[1:, 2:]"
   ]
  },
  {
   "cell_type": "code",
   "execution_count": 32,
   "id": "6767eeba",
   "metadata": {},
   "outputs": [],
   "source": [
    "from sklearn.metrics.pairwise import cosine_similarity"
   ]
  },
  {
   "cell_type": "code",
   "execution_count": 55,
   "id": "adfc4ad8",
   "metadata": {},
   "outputs": [
    {
     "data": {
      "text/plain": [
       "array([[0.99866015, 0.99978851, 0.99982803, 0.9998537 , 0.99989348,\n",
       "        0.99979803, 0.99982762, 0.99981818, 0.99978413, 0.99985401,\n",
       "        0.99983875, 0.99988396, 0.99986463, 0.99985521, 0.99984051,\n",
       "        0.99984506, 0.99614951]])"
      ]
     },
     "execution_count": 55,
     "metadata": {},
     "output_type": "execute_result"
    }
   ],
   "source": [
    "cosine_similarity(first.reshape(1, -1), positive_others.reshape(-1, 256))"
   ]
  },
  {
   "cell_type": "code",
   "execution_count": 56,
   "id": "f3072a98",
   "metadata": {},
   "outputs": [],
   "source": [
    "negatives = ddf[ddf.label != \"Zac Efron\"].values[:, 2:]"
   ]
  },
  {
   "cell_type": "code",
   "execution_count": 58,
   "id": "3904e08e",
   "metadata": {
    "scrolled": true
   },
   "outputs": [
    {
     "data": {
      "text/plain": [
       "array([[-0.02266313,  0.02458686, -0.01556354, -0.0457704 , -0.00687025,\n",
       "         0.01595472,  0.03192335,  0.17980017,  0.07500997, -0.00950404,\n",
       "        -0.0091045 , -0.0832809 , -0.01063441, -0.02552585, -0.01611585,\n",
       "         0.01852232,  0.1420852 ,  0.01190297,  0.15782949,  0.11595422,\n",
       "        -0.12327384, -0.13906215,  0.1141339 ,  0.09070609, -0.01291221,\n",
       "        -0.04933495, -0.08914397,  0.00925448,  0.02110626, -0.01248182,\n",
       "         0.0151052 ,  0.02266475,  0.1720904 ,  0.08876793,  0.00189687,\n",
       "         0.11844033,  0.01616239, -0.00640404,  0.08582266,  0.02449106,\n",
       "         0.00543939,  0.09174118,  0.08708162,  0.02146252,  0.02069314,\n",
       "        -0.04993305, -0.017106  , -0.04286474,  0.08735907, -0.03944793,\n",
       "        -0.04956991, -0.01165332,  0.07722386, -0.01802536, -0.06987893,\n",
       "        -0.03918846, -0.01623817, -0.01630445,  0.0207619 , -0.02334572,\n",
       "         0.11238541,  0.08863662, -0.01573365,  0.02154845,  0.01206415,\n",
       "         0.11169584,  0.02059292, -0.04150871,  0.00303109,  0.03252796,\n",
       "        -0.02551542,  0.08824031,  0.01793086,  0.1766285 , -0.01011233,\n",
       "         0.10964723, -0.0130289 ,  0.01247122, -0.04804368, -0.00568602,\n",
       "        -0.02681768, -0.07284182, -0.12264952,  0.01958083, -0.12536004,\n",
       "         0.07664144,  0.07013665, -0.00550477, -0.04822492,  0.17956623,\n",
       "         0.09058144, -0.00517515, -0.07347665,  0.14276345,  0.00304205,\n",
       "        -0.11922084,  0.08836558, -0.04234124, -0.00076582,  0.00352482,\n",
       "        -0.06593934, -0.07520572,  0.00392423,  0.11287649,  0.02453027,\n",
       "        -0.01140238,  0.08678793,  0.01774634, -0.03964037,  0.01704602,\n",
       "        -0.04015185,  0.02064175, -0.08735436, -0.01647979, -0.04960059,\n",
       "        -0.14514586, -0.04567598,  0.08136543,  0.03043844,  0.01811522,\n",
       "         0.0064226 ,  0.01806602,  0.1165591 , -0.00559189,  0.0135889 ,\n",
       "         0.0294892 , -0.01303434, -0.03975951, -0.01629963, -0.01700955,\n",
       "         0.1815674 ,  0.11118251,  0.00722767, -0.01307734,  0.00621984,\n",
       "        -0.009223  , -0.00329462, -0.00192325, -0.07510006,  0.111891  ,\n",
       "        -0.11565661, -0.00676614,  0.05852028,  0.03094895,  0.09533197,\n",
       "        -0.04028976,  0.02124914, -0.0043396 ,  0.18733921, -0.00395129,\n",
       "         0.00247691, -0.00873806, -0.01274426,  0.43933895, -0.00277722,\n",
       "        -0.05085388, -0.01195878,  0.02418259, -0.05255667,  0.01288902,\n",
       "         0.03213593,  0.01959643,  0.02085692, -0.01378296, -0.02022475,\n",
       "        -0.00985239,  0.02604105,  0.02501121, -0.04850816,  0.02668104,\n",
       "        -0.00151707,  0.00818932,  0.18027677, -0.03963447,  0.00724581,\n",
       "         0.02360111, -0.00896266,  0.01083799, -0.04566596, -0.01521591,\n",
       "        -0.01462038,  0.0847217 , -0.01408099,  0.1473926 , -0.03892616,\n",
       "         0.17783447, -0.00750302, -0.03264848, -0.03385527,  0.11360697,\n",
       "         0.01198026, -0.01111596, -0.06499674,  0.0130043 , -0.01963426,\n",
       "         0.14534212,  0.08726666, -0.05138794, -0.12327011,  0.04852323,\n",
       "        -0.01819799,  0.08240065, -0.03694557,  0.11041163, -0.08644411,\n",
       "         0.01120521,  0.11289136,  0.01027329, -0.01656569,  0.10580773,\n",
       "        -0.02878152, -0.11665068, -0.00476838, -0.03740004,  0.02334971,\n",
       "        -0.01759728, -0.01186185,  0.14122451,  0.00516081,  0.0288228 ,\n",
       "        -0.01211933,  0.02041103,  0.18232549,  0.01020429,  0.00564023,\n",
       "         0.01014557, -0.03742233, -0.07606629,  0.1116777 ,  0.17985805,\n",
       "        -0.04799851, -0.03543586, -0.04754856,  0.02149269, -0.0054851 ,\n",
       "        -0.05089998,  0.03022601,  0.02472109,  0.02784731, -0.02759534,\n",
       "         0.10405256,  0.01343653, -0.01493465,  0.09249233, -0.12219203,\n",
       "        -0.01630075,  0.11634898,  0.01932444, -0.03893818,  0.01778408,\n",
       "         0.03398578,  0.03271001, -0.01095172,  0.02342518, -0.01825398,\n",
       "         0.01484689,  0.02985348, -0.02597207,  0.02097639,  0.01889527,\n",
       "         0.01220857,  0.0201793 , -0.02317108,  0.0184532 ,  0.00477816,\n",
       "         0.0176083 ,  0.0165735 , -0.01513998,  0.01133414,  0.02507007,\n",
       "        -0.01687855, -0.04095495,  0.01610042,  0.01131812, -0.01548178,\n",
       "         0.0052214 , -0.00875251,  0.15630499, -0.01163595,  0.02551881,\n",
       "        -0.04276209,  0.00868088,  0.12174747,  0.02519343,  0.0205726 ,\n",
       "         0.01183057,  0.02286679,  0.09120331, -0.12255208, -0.05014851,\n",
       "         0.03159531,  0.02568976,  0.02400517, -0.01150836,  0.03791992,\n",
       "        -0.13877878,  0.00933749,  0.005103  ,  0.08792877,  0.01338281,\n",
       "        -0.01524376, -0.03831961,  0.02472292, -0.01390884, -0.01554438,\n",
       "        -0.01115926,  0.03382702, -0.01888231,  0.12969145, -0.0436546 ,\n",
       "         0.11211412, -0.01259686, -0.00798627,  0.05138041, -0.03866316,\n",
       "         0.00933896, -0.07898402, -0.01198541, -0.00839698, -0.01337889,\n",
       "        -0.04749334, -0.00524566, -0.11511498, -0.01185225,  0.02155154,\n",
       "         0.08750304, -0.04084092,  0.02165448, -0.03875639, -0.12099786,\n",
       "         0.11305791,  0.0098223 , -0.01816015,  0.03747462,  0.02448526,\n",
       "         0.09288283, -0.04857669, -0.01072646, -0.07512581,  0.02901312,\n",
       "        -0.03864767, -0.07279744,  0.01519046,  0.01071864, -0.07311876,\n",
       "         0.00518694,  0.08601575, -0.03251378, -0.02828222, -0.00888777,\n",
       "        -0.02051538,  0.01926097,  0.08864081, -0.0154215 ,  0.03385001,\n",
       "        -0.01693791,  0.00992073,  0.00292982,  0.01599487,  0.00624655,\n",
       "        -0.01354412,  0.00294828,  0.08010656, -0.0540538 ,  0.01901815,\n",
       "        -0.03967047, -0.03911505,  0.0261594 ,  0.17746753, -0.12227232,\n",
       "        -0.0121528 , -0.11969831,  0.09095873,  0.19037844, -0.02120625,\n",
       "        -0.03905844,  0.02464656,  0.17029058, -0.12122483,  0.05498907,\n",
       "         0.00204459,  0.00436831, -0.1171532 , -0.01087634,  0.0203669 ,\n",
       "         0.07812187,  0.01108781,  0.01954044, -0.1215758 ,  0.03065891,\n",
       "        -0.12201703,  0.09109656, -0.00582283,  0.02290155,  0.02654451,\n",
       "        -0.00901899,  0.08994699, -0.12086748, -0.07719085, -0.00606791,\n",
       "        -0.0794674 , -0.04087822, -0.00677421, -0.05037106,  0.07725774,\n",
       "         0.02730433,  0.0068485 ,  0.03035831, -0.07982903,  0.03087851,\n",
       "        -0.07652081, -0.01413692,  0.14244172,  0.08233088, -0.03915502,\n",
       "         0.00324223, -0.04965926,  0.16644719, -0.08047324, -0.04979941,\n",
       "         0.11382595, -0.01423414,  0.00121105,  0.11669049, -0.00713039,\n",
       "         0.02389316, -0.03615224, -0.08794701, -0.00757135, -0.04241151,\n",
       "         0.03128162, -0.01469568,  0.02742708, -0.00961163,  0.02027244,\n",
       "        -0.04341   ,  0.01490063, -0.02687449,  0.01989942, -0.04543   ,\n",
       "         0.00671782, -0.00473864, -0.03922859,  0.01344771,  0.02720833,\n",
       "        -0.0241734 ,  0.01742197,  0.02705533, -0.01680415,  0.08150288,\n",
       "         0.11523674, -0.00813614,  0.02290441,  0.02749704, -0.05315004,\n",
       "         0.01945689,  0.0940348 , -0.13064861, -0.00405264, -0.05029012,\n",
       "        -0.0473751 , -0.01643437, -0.07770069, -0.01314741,  0.02309171,\n",
       "         0.11367696,  0.01274844,  0.02414912, -0.12120255, -0.0082859 ,\n",
       "         0.02279288, -0.0090435 , -0.03170738,  0.00473991,  0.17950792,\n",
       "         0.00849232,  0.11427242, -0.02120221,  0.11459337,  0.11088581,\n",
       "        -0.03895405, -0.01290365,  0.11541934, -0.01177694, -0.00551926,\n",
       "         0.08606049, -0.07424296, -0.09399297, -0.01116751,  0.01600542,\n",
       "        -0.07832597, -0.01102873, -0.00807594, -0.00774779,  0.00815871]])"
      ]
     },
     "execution_count": 58,
     "metadata": {},
     "output_type": "execute_result"
    }
   ],
   "source": [
    "cosine_similarity(first.reshape(1, -1), negatives.reshape(-1, 256))"
   ]
  },
  {
   "cell_type": "code",
   "execution_count": null,
   "id": "9411e2e1",
   "metadata": {},
   "outputs": [],
   "source": []
  },
  {
   "cell_type": "code",
   "execution_count": null,
   "id": "3d1b6e65",
   "metadata": {},
   "outputs": [],
   "source": []
  },
  {
   "cell_type": "code",
   "execution_count": null,
   "id": "af34a59f",
   "metadata": {},
   "outputs": [],
   "source": []
  },
  {
   "cell_type": "code",
   "execution_count": null,
   "id": "eb71488e",
   "metadata": {},
   "outputs": [],
   "source": []
  },
  {
   "cell_type": "code",
   "execution_count": 2,
   "id": "cc696ec5",
   "metadata": {},
   "outputs": [],
   "source": [
    "test_df = pd.read_csv(\"test_feature_vectors_center_loss.csv\")"
   ]
  },
  {
   "cell_type": "code",
   "execution_count": 4,
   "id": "470db459",
   "metadata": {},
   "outputs": [
    {
     "data": {
      "text/html": [
       "<div>\n",
       "<style scoped>\n",
       "    .dataframe tbody tr th:only-of-type {\n",
       "        vertical-align: middle;\n",
       "    }\n",
       "\n",
       "    .dataframe tbody tr th {\n",
       "        vertical-align: top;\n",
       "    }\n",
       "\n",
       "    .dataframe thead th {\n",
       "        text-align: right;\n",
       "    }\n",
       "</style>\n",
       "<table border=\"1\" class=\"dataframe\">\n",
       "  <thead>\n",
       "    <tr style=\"text-align: right;\">\n",
       "      <th></th>\n",
       "      <th>id</th>\n",
       "      <th>label</th>\n",
       "      <th>feature_0</th>\n",
       "      <th>feature_1</th>\n",
       "      <th>feature_2</th>\n",
       "      <th>feature_3</th>\n",
       "      <th>feature_4</th>\n",
       "      <th>feature_5</th>\n",
       "      <th>feature_6</th>\n",
       "      <th>feature_7</th>\n",
       "      <th>...</th>\n",
       "      <th>feature_246</th>\n",
       "      <th>feature_247</th>\n",
       "      <th>feature_248</th>\n",
       "      <th>feature_249</th>\n",
       "      <th>feature_250</th>\n",
       "      <th>feature_251</th>\n",
       "      <th>feature_252</th>\n",
       "      <th>feature_253</th>\n",
       "      <th>feature_254</th>\n",
       "      <th>feature_255</th>\n",
       "    </tr>\n",
       "  </thead>\n",
       "  <tbody>\n",
       "    <tr>\n",
       "      <th>0</th>\n",
       "      <td>Zac Efron_60.jpg</td>\n",
       "      <td>Zac Efron</td>\n",
       "      <td>-1.760520</td>\n",
       "      <td>-0.836008</td>\n",
       "      <td>0.798890</td>\n",
       "      <td>1.033375</td>\n",
       "      <td>0.623507</td>\n",
       "      <td>-1.186337</td>\n",
       "      <td>-1.185222</td>\n",
       "      <td>-0.197013</td>\n",
       "      <td>...</td>\n",
       "      <td>-0.918334</td>\n",
       "      <td>-0.381150</td>\n",
       "      <td>1.364439</td>\n",
       "      <td>0.671677</td>\n",
       "      <td>-1.062970</td>\n",
       "      <td>-0.009317</td>\n",
       "      <td>-0.584523</td>\n",
       "      <td>-1.448803</td>\n",
       "      <td>3.050221</td>\n",
       "      <td>-0.160683</td>\n",
       "    </tr>\n",
       "    <tr>\n",
       "      <th>1</th>\n",
       "      <td>Elizabeth Olsen_0.jpg</td>\n",
       "      <td>Elizabeth Olsen</td>\n",
       "      <td>0.024142</td>\n",
       "      <td>0.496284</td>\n",
       "      <td>-0.552204</td>\n",
       "      <td>0.339686</td>\n",
       "      <td>0.328761</td>\n",
       "      <td>-0.496818</td>\n",
       "      <td>-0.589094</td>\n",
       "      <td>-0.857496</td>\n",
       "      <td>...</td>\n",
       "      <td>0.992106</td>\n",
       "      <td>-0.886638</td>\n",
       "      <td>0.893636</td>\n",
       "      <td>-0.134451</td>\n",
       "      <td>0.823998</td>\n",
       "      <td>1.016782</td>\n",
       "      <td>-0.351759</td>\n",
       "      <td>0.494451</td>\n",
       "      <td>-0.593570</td>\n",
       "      <td>0.567497</td>\n",
       "    </tr>\n",
       "    <tr>\n",
       "      <th>2</th>\n",
       "      <td>Jessica Alba_22.jpg</td>\n",
       "      <td>Jessica Alba</td>\n",
       "      <td>-0.611680</td>\n",
       "      <td>0.558979</td>\n",
       "      <td>-1.450023</td>\n",
       "      <td>-0.440779</td>\n",
       "      <td>1.710741</td>\n",
       "      <td>-0.426802</td>\n",
       "      <td>-0.051814</td>\n",
       "      <td>-1.088931</td>\n",
       "      <td>...</td>\n",
       "      <td>1.454296</td>\n",
       "      <td>1.465587</td>\n",
       "      <td>-1.540708</td>\n",
       "      <td>-1.956587</td>\n",
       "      <td>0.237458</td>\n",
       "      <td>-0.007816</td>\n",
       "      <td>-0.230256</td>\n",
       "      <td>0.203086</td>\n",
       "      <td>-1.945978</td>\n",
       "      <td>0.286759</td>\n",
       "    </tr>\n",
       "    <tr>\n",
       "      <th>3</th>\n",
       "      <td>Dwayne Johnson_10.jpg</td>\n",
       "      <td>Dwayne Johnson</td>\n",
       "      <td>-0.137061</td>\n",
       "      <td>-1.442176</td>\n",
       "      <td>-1.916911</td>\n",
       "      <td>-0.588693</td>\n",
       "      <td>-0.062530</td>\n",
       "      <td>-0.830929</td>\n",
       "      <td>0.559717</td>\n",
       "      <td>-0.161158</td>\n",
       "      <td>...</td>\n",
       "      <td>1.616928</td>\n",
       "      <td>1.546604</td>\n",
       "      <td>0.630572</td>\n",
       "      <td>-0.454785</td>\n",
       "      <td>-0.587831</td>\n",
       "      <td>-0.578592</td>\n",
       "      <td>0.702713</td>\n",
       "      <td>1.662764</td>\n",
       "      <td>-0.689047</td>\n",
       "      <td>0.493829</td>\n",
       "    </tr>\n",
       "    <tr>\n",
       "      <th>4</th>\n",
       "      <td>Claire Holt_67.jpg</td>\n",
       "      <td>Claire Holt</td>\n",
       "      <td>0.749410</td>\n",
       "      <td>0.077539</td>\n",
       "      <td>-0.751555</td>\n",
       "      <td>-1.085508</td>\n",
       "      <td>0.084830</td>\n",
       "      <td>-0.865636</td>\n",
       "      <td>-1.138106</td>\n",
       "      <td>-0.536337</td>\n",
       "      <td>...</td>\n",
       "      <td>0.644378</td>\n",
       "      <td>0.971796</td>\n",
       "      <td>-1.949164</td>\n",
       "      <td>-0.683661</td>\n",
       "      <td>1.193235</td>\n",
       "      <td>0.046037</td>\n",
       "      <td>1.507033</td>\n",
       "      <td>-0.547462</td>\n",
       "      <td>0.765344</td>\n",
       "      <td>-1.470929</td>\n",
       "    </tr>\n",
       "  </tbody>\n",
       "</table>\n",
       "<p>5 rows × 258 columns</p>\n",
       "</div>"
      ],
      "text/plain": [
       "                      id            label  feature_0  feature_1  feature_2  \\\n",
       "0       Zac Efron_60.jpg        Zac Efron  -1.760520  -0.836008   0.798890   \n",
       "1  Elizabeth Olsen_0.jpg  Elizabeth Olsen   0.024142   0.496284  -0.552204   \n",
       "2    Jessica Alba_22.jpg     Jessica Alba  -0.611680   0.558979  -1.450023   \n",
       "3  Dwayne Johnson_10.jpg   Dwayne Johnson  -0.137061  -1.442176  -1.916911   \n",
       "4     Claire Holt_67.jpg      Claire Holt   0.749410   0.077539  -0.751555   \n",
       "\n",
       "   feature_3  feature_4  feature_5  feature_6  feature_7  ...  feature_246  \\\n",
       "0   1.033375   0.623507  -1.186337  -1.185222  -0.197013  ...    -0.918334   \n",
       "1   0.339686   0.328761  -0.496818  -0.589094  -0.857496  ...     0.992106   \n",
       "2  -0.440779   1.710741  -0.426802  -0.051814  -1.088931  ...     1.454296   \n",
       "3  -0.588693  -0.062530  -0.830929   0.559717  -0.161158  ...     1.616928   \n",
       "4  -1.085508   0.084830  -0.865636  -1.138106  -0.536337  ...     0.644378   \n",
       "\n",
       "   feature_247  feature_248  feature_249  feature_250  feature_251  \\\n",
       "0    -0.381150     1.364439     0.671677    -1.062970    -0.009317   \n",
       "1    -0.886638     0.893636    -0.134451     0.823998     1.016782   \n",
       "2     1.465587    -1.540708    -1.956587     0.237458    -0.007816   \n",
       "3     1.546604     0.630572    -0.454785    -0.587831    -0.578592   \n",
       "4     0.971796    -1.949164    -0.683661     1.193235     0.046037   \n",
       "\n",
       "   feature_252  feature_253  feature_254  feature_255  \n",
       "0    -0.584523    -1.448803     3.050221    -0.160683  \n",
       "1    -0.351759     0.494451    -0.593570     0.567497  \n",
       "2    -0.230256     0.203086    -1.945978     0.286759  \n",
       "3     0.702713     1.662764    -0.689047     0.493829  \n",
       "4     1.507033    -0.547462     0.765344    -1.470929  \n",
       "\n",
       "[5 rows x 258 columns]"
      ]
     },
     "execution_count": 4,
     "metadata": {},
     "output_type": "execute_result"
    }
   ],
   "source": [
    "test_df.head()"
   ]
  },
  {
   "cell_type": "code",
   "execution_count": 15,
   "id": "1e1b6bf8",
   "metadata": {},
   "outputs": [
    {
     "name": "stderr",
     "output_type": "stream",
     "text": [
      "C:\\Users\\yerda\\AppData\\Roaming\\Python\\Python311\\site-packages\\numpy\\core\\fromnumeric.py:57: FutureWarning: 'DataFrame.swapaxes' is deprecated and will be removed in a future version. Please use 'DataFrame.transpose' instead.\n",
      "  return bound(*args, **kwds)\n"
     ]
    }
   ],
   "source": [
    "splitted_df = np.array_split(test_df, 4)"
   ]
  },
  {
   "cell_type": "code",
   "execution_count": 72,
   "id": "8893482a",
   "metadata": {},
   "outputs": [],
   "source": [
    "positives = test_df[test_df.label == identities[1]].values[:, 2:]"
   ]
  },
  {
   "cell_type": "code",
   "execution_count": 73,
   "id": "cf180055",
   "metadata": {},
   "outputs": [
    {
     "data": {
      "text/plain": [
       "(14, 256)"
      ]
     },
     "execution_count": 73,
     "metadata": {},
     "output_type": "execute_result"
    }
   ],
   "source": [
    "positives.shape"
   ]
  },
  {
   "cell_type": "code",
   "execution_count": 76,
   "id": "33d1687f",
   "metadata": {},
   "outputs": [
    {
     "data": {
      "text/plain": [
       "13"
      ]
     },
     "execution_count": 76,
     "metadata": {},
     "output_type": "execute_result"
    }
   ],
   "source": [
    "(cosine_similarity(positives[0].reshape(-1, 256), positives[1:].reshape(-1, 256)) > 0.8).sum()"
   ]
  },
  {
   "cell_type": "code",
   "execution_count": null,
   "id": "ce3fd2dd",
   "metadata": {},
   "outputs": [],
   "source": [
    "positive_correct = [22]"
   ]
  },
  {
   "cell_type": "code",
   "execution_count": 86,
   "id": "2639198e",
   "metadata": {},
   "outputs": [],
   "source": [
    "positive_correct_all = []\n",
    "\n",
    "for identity in identities:\n",
    "    positives = test_df[test_df.label == identity].values[:, 2:]\n",
    "\n",
    "    positive_correct = []\n",
    "\n",
    "    for i, positive in enumerate(positives):\n",
    "        positives = positives.reshape(-1, 256)\n",
    "        sim = (cosine_similarity(positive.reshape(-1, 256), positives) > 0.8).sum()\n",
    "        if sim != 1:\n",
    "            positive_correct.append(sim / len(positives))\n",
    "    positive_correct_all.append(np.mean(positive_correct))"
   ]
  },
  {
   "cell_type": "code",
   "execution_count": 91,
   "id": "d5a414b3",
   "metadata": {},
   "outputs": [
    {
     "name": "stderr",
     "output_type": "stream",
     "text": [
      "100%|██████████████████████████████████████████████████████████████████████████████████| 31/31 [00:46<00:00,  1.49s/it]\n"
     ]
    }
   ],
   "source": [
    "negative_correct_all = []\n",
    "\n",
    "for identity in tqdm.tqdm(identities):\n",
    "    negatives = test_df[test_df.label != identity].values[:, 2:]\n",
    "\n",
    "    negative_correct = []\n",
    "\n",
    "    for i, negative in enumerate(negatives):\n",
    "        negatives = negatives.reshape(-1, 256)\n",
    "        sim = (cosine_similarity(negative.reshape(-1, 256), negatives) < 0.8).sum()\n",
    "        if sim != 1:\n",
    "            negative_correct.append(sim / len(negatives))\n",
    "    negative_correct_all.append(np.mean(negative_correct))"
   ]
  },
  {
   "cell_type": "code",
   "execution_count": 93,
   "id": "12046e58",
   "metadata": {},
   "outputs": [
    {
     "data": {
      "text/plain": [
       "0.9639533685957761"
      ]
     },
     "execution_count": 93,
     "metadata": {},
     "output_type": "execute_result"
    }
   ],
   "source": [
    "np.mean(negative_correct_all)"
   ]
  },
  {
   "cell_type": "code",
   "execution_count": 95,
   "id": "563bc163",
   "metadata": {},
   "outputs": [
    {
     "name": "stdout",
     "output_type": "stream",
     "text": [
      " Acc for positive examples: 0.9499283792935422 | Acc for negative examples: 0.9639533685957761 | when the threshold: 0.8\n"
     ]
    }
   ],
   "source": [
    "print(f\" Acc for positive examples: {np.mean(positive_correct_all)} | Acc for negative examples: {np.mean(negative_correct_all)} | when the threshold: 0.8\")"
   ]
  },
  {
   "cell_type": "code",
   "execution_count": 97,
   "id": "a1621b29",
   "metadata": {},
   "outputs": [
    {
     "name": "stderr",
     "output_type": "stream",
     "text": [
      "100%|█████████████████████████████████████████████████████████████████████████████████| 31/31 [00:00<00:00, 117.55it/s]\n",
      "100%|██████████████████████████████████████████████████████████████████████████████████| 31/31 [00:47<00:00,  1.53s/it]"
     ]
    },
    {
     "name": "stdout",
     "output_type": "stream",
     "text": [
      " Acc for positive examples: 0.9415977464506985 | Acc for negative examples: 0.9650904865144916 | when the threshold: 0.9\n"
     ]
    },
    {
     "name": "stderr",
     "output_type": "stream",
     "text": [
      "\n"
     ]
    }
   ],
   "source": [
    "positive_correct_all = []\n",
    "\n",
    "for identity in tqdm.tqdm(identities):\n",
    "    positives = test_df[test_df.label == identity].values[:, 2:]\n",
    "\n",
    "    positive_correct = []\n",
    "\n",
    "    for i, positive in enumerate(positives):\n",
    "        positives = positives.reshape(-1, 256)\n",
    "        sim = (cosine_similarity(positive.reshape(-1, 256), positives) > 0.9).sum()\n",
    "        if sim != 1:\n",
    "            positive_correct.append(sim / len(positives))\n",
    "    positive_correct_all.append(np.mean(positive_correct))\n",
    "    \n",
    "negative_correct_all = []\n",
    "\n",
    "for identity in tqdm.tqdm(identities):\n",
    "    negatives = test_df[test_df.label != identity].values[:, 2:]\n",
    "\n",
    "    negative_correct = []\n",
    "\n",
    "    for i, negative in enumerate(negatives):\n",
    "        negatives = negatives.reshape(-1, 256)\n",
    "        sim = (cosine_similarity(negative.reshape(-1, 256), negatives) < 0.9).sum()\n",
    "        if sim != 1:\n",
    "            negative_correct.append(sim / len(negatives))\n",
    "    negative_correct_all.append(np.mean(negative_correct))\n",
    "print(f\" Acc for positive examples: {np.mean(positive_correct_all)} | Acc for negative examples: {np.mean(negative_correct_all)} | when the threshold: 0.9\")"
   ]
  },
  {
   "cell_type": "code",
   "execution_count": 98,
   "id": "c26d7555",
   "metadata": {},
   "outputs": [
    {
     "name": "stderr",
     "output_type": "stream",
     "text": [
      "100%|█████████████████████████████████████████████████████████████████████████████████| 31/31 [00:00<00:00, 114.10it/s]\n",
      "100%|██████████████████████████████████████████████████████████████████████████████████| 31/31 [00:46<00:00,  1.51s/it]"
     ]
    },
    {
     "name": "stdout",
     "output_type": "stream",
     "text": [
      " Acc for positive examples: 0.9689745533807508 | Acc for negative examples: 0.9613360257819165 | when the threshold: 0.5\n"
     ]
    },
    {
     "name": "stderr",
     "output_type": "stream",
     "text": [
      "\n"
     ]
    }
   ],
   "source": [
    "positive_correct_all = []\n",
    "\n",
    "for identity in tqdm.tqdm(identities):\n",
    "    positives = test_df[test_df.label == identity].values[:, 2:]\n",
    "\n",
    "    positive_correct = []\n",
    "\n",
    "    for i, positive in enumerate(positives):\n",
    "        positives = positives.reshape(-1, 256)\n",
    "        sim = (cosine_similarity(positive.reshape(-1, 256), positives) > 0.5).sum()\n",
    "        if sim != 1:\n",
    "            positive_correct.append(sim / len(positives))\n",
    "    positive_correct_all.append(np.mean(positive_correct))\n",
    "    \n",
    "negative_correct_all = []\n",
    "\n",
    "for identity in tqdm.tqdm(identities):\n",
    "    negatives = test_df[test_df.label != identity].values[:, 2:]\n",
    "\n",
    "    negative_correct = []\n",
    "\n",
    "    for i, negative in enumerate(negatives):\n",
    "        negatives = negatives.reshape(-1, 256)\n",
    "        sim = (cosine_similarity(negative.reshape(-1, 256), negatives) < 0.5).sum()\n",
    "        if sim != 1:\n",
    "            negative_correct.append(sim / len(negatives))\n",
    "    negative_correct_all.append(np.mean(negative_correct))\n",
    "print(f\" Acc for positive examples: {np.mean(positive_correct_all)} | Acc for negative examples: {np.mean(negative_correct_all)} | when the threshold: 0.5\")"
   ]
  },
  {
   "cell_type": "code",
   "execution_count": 99,
   "id": "9618d34f",
   "metadata": {},
   "outputs": [
    {
     "name": "stderr",
     "output_type": "stream",
     "text": [
      "100%|█████████████████████████████████████████████████████████████████████████████████| 31/31 [00:00<00:00, 114.24it/s]\n",
      "100%|██████████████████████████████████████████████████████████████████████████████████| 31/31 [00:47<00:00,  1.53s/it]"
     ]
    },
    {
     "name": "stdout",
     "output_type": "stream",
     "text": [
      " Acc for positive examples: 0.9956214815476723 | Acc for negative examples: 0.8896020558267141 | when the threshold: 0.1\n"
     ]
    },
    {
     "name": "stderr",
     "output_type": "stream",
     "text": [
      "\n"
     ]
    }
   ],
   "source": [
    "positive_correct_all = []\n",
    "\n",
    "for identity in tqdm.tqdm(identities):\n",
    "    positives = test_df[test_df.label == identity].values[:, 2:]\n",
    "\n",
    "    positive_correct = []\n",
    "\n",
    "    for i, positive in enumerate(positives):\n",
    "        positives = positives.reshape(-1, 256)\n",
    "        sim = (cosine_similarity(positive.reshape(-1, 256), positives) > 0.1).sum()\n",
    "        if sim != 1:\n",
    "            positive_correct.append(sim / len(positives))\n",
    "    positive_correct_all.append(np.mean(positive_correct))\n",
    "    \n",
    "negative_correct_all = []\n",
    "\n",
    "for identity in tqdm.tqdm(identities):\n",
    "    negatives = test_df[test_df.label != identity].values[:, 2:]\n",
    "\n",
    "    negative_correct = []\n",
    "\n",
    "    for i, negative in enumerate(negatives):\n",
    "        negatives = negatives.reshape(-1, 256)\n",
    "        sim = (cosine_similarity(negative.reshape(-1, 256), negatives) < 0.1).sum()\n",
    "        if sim != 1:\n",
    "            negative_correct.append(sim / len(negatives))\n",
    "    negative_correct_all.append(np.mean(negative_correct))\n",
    "print(f\" Acc for positive examples: {np.mean(positive_correct_all)} | Acc for negative examples: {np.mean(negative_correct_all)} | when the threshold: 0.1\")"
   ]
  },
  {
   "cell_type": "code",
   "execution_count": null,
   "id": "07395ad9",
   "metadata": {},
   "outputs": [],
   "source": []
  }
 ],
 "metadata": {
  "kernelspec": {
   "display_name": "Python 3 (ipykernel)",
   "language": "python",
   "name": "python3"
  },
  "language_info": {
   "codemirror_mode": {
    "name": "ipython",
    "version": 3
   },
   "file_extension": ".py",
   "mimetype": "text/x-python",
   "name": "python",
   "nbconvert_exporter": "python",
   "pygments_lexer": "ipython3",
   "version": "3.11.4"
  }
 },
 "nbformat": 4,
 "nbformat_minor": 5
}
